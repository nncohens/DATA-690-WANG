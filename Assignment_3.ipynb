{
  "nbformat": 4,
  "nbformat_minor": 0,
  "metadata": {
    "colab": {
      "name": "Assignment 3",
      "provenance": [],
      "collapsed_sections": [],
      "authorship_tag": "ABX9TyNxKxkomA+kxbYTkrbkh6mK",
      "include_colab_link": true
    },
    "kernelspec": {
      "name": "python3",
      "display_name": "Python 3"
    }
  },
  "cells": [
    {
      "cell_type": "markdown",
      "metadata": {
        "id": "view-in-github",
        "colab_type": "text"
      },
      "source": [
        "<a href=\"https://colab.research.google.com/github/nncohens/DATA-690-WANG/blob/master/Assignment_3.ipynb\" target=\"_parent\"><img src=\"https://colab.research.google.com/assets/colab-badge.svg\" alt=\"Open In Colab\"/></a>"
      ]
    },
    {
      "cell_type": "code",
      "metadata": {
        "id": "t5mSVc-9SUCK",
        "colab_type": "code",
        "colab": {}
      },
      "source": [
        "import random\n",
        "import numpy as np \n",
        "#arr = np.random.rand(10, 10) \n",
        "#arr"
      ],
      "execution_count": 12,
      "outputs": []
    },
    {
      "cell_type": "code",
      "metadata": {
        "id": "8MqETFTPX5gx",
        "colab_type": "code",
        "colab": {
          "base_uri": "https://localhost:8080/",
          "height": 187
        },
        "outputId": "98f5575e-aceb-498c-b8a8-e52a2fccfe7e"
      },
      "source": [
        "from numpy import random\n",
        "\n",
        "x = random.randint(10, size=(10, 10))\n",
        "\n",
        "print(x)"
      ],
      "execution_count": 1,
      "outputs": [
        {
          "output_type": "stream",
          "text": [
            "[[0 6 8 3 9 4 6 6 1 0]\n",
            " [0 1 0 2 2 7 4 2 4 9]\n",
            " [5 4 9 8 3 2 3 7 9 2]\n",
            " [0 0 4 4 4 6 2 9 1 5]\n",
            " [5 3 8 9 8 5 2 9 5 5]\n",
            " [1 3 2 8 6 6 0 8 0 4]\n",
            " [9 9 0 3 2 8 9 7 3 7]\n",
            " [0 2 1 6 8 1 7 3 4 4]\n",
            " [4 5 8 5 2 4 6 7 5 9]\n",
            " [8 2 9 2 7 9 8 7 5 7]]\n"
          ],
          "name": "stdout"
        }
      ]
    },
    {
      "cell_type": "code",
      "metadata": {
        "id": "xa73q9Ka1o1H",
        "colab_type": "code",
        "colab": {}
      },
      "source": [
        "\n",
        "for i in x: #prints ever row in x\n",
        "  for j in i: #j access all the elements in i\n",
        "    #if (j%2 !=0):\n",
        "      #j.replace( j, \"@\")\n",
        "    np.where(j==0,j,\"@\")\n",
        "    \n",
        "    #print (j)"
      ],
      "execution_count": 26,
      "outputs": []
    },
    {
      "cell_type": "code",
      "metadata": {
        "id": "9m-CynM35J6c",
        "colab_type": "code",
        "colab": {
          "base_uri": "https://localhost:8080/",
          "height": 187
        },
        "outputId": "c214b44e-ccfb-43a6-e68a-c554315bc55f"
      },
      "source": [
        "print(x)"
      ],
      "execution_count": 27,
      "outputs": [
        {
          "output_type": "stream",
          "text": [
            "[[0 6 8 3 9 4 6 6 1 0]\n",
            " [0 1 0 2 2 7 4 2 4 9]\n",
            " [5 4 9 8 3 2 3 7 9 2]\n",
            " [0 0 4 4 4 6 2 9 1 5]\n",
            " [5 3 8 9 8 5 2 9 5 5]\n",
            " [1 3 2 8 6 6 0 8 0 4]\n",
            " [9 9 0 3 2 8 9 7 3 7]\n",
            " [0 2 1 6 8 1 7 3 4 4]\n",
            " [4 5 8 5 2 4 6 7 5 9]\n",
            " [8 2 9 2 7 9 8 7 5 7]]\n"
          ],
          "name": "stdout"
        }
      ]
    },
    {
      "cell_type": "code",
      "metadata": {
        "id": "mwARdoW23nMU",
        "colab_type": "code",
        "colab": {
          "base_uri": "https://localhost:8080/",
          "height": 187
        },
        "outputId": "7e56961f-dde8-4c68-d10c-8c1891bc750c"
      },
      "source": [
        "#for i in x: #prints ever row\n",
        "    #print (i)"
      ],
      "execution_count": 3,
      "outputs": [
        {
          "output_type": "stream",
          "text": [
            "[0 6 8 3 9 4 6 6 1 0]\n",
            "[0 1 0 2 2 7 4 2 4 9]\n",
            "[5 4 9 8 3 2 3 7 9 2]\n",
            "[0 0 4 4 4 6 2 9 1 5]\n",
            "[5 3 8 9 8 5 2 9 5 5]\n",
            "[1 3 2 8 6 6 0 8 0 4]\n",
            "[9 9 0 3 2 8 9 7 3 7]\n",
            "[0 2 1 6 8 1 7 3 4 4]\n",
            "[4 5 8 5 2 4 6 7 5 9]\n",
            "[8 2 9 2 7 9 8 7 5 7]\n"
          ],
          "name": "stdout"
        }
      ]
    },
    {
      "cell_type": "code",
      "metadata": {
        "id": "GgQTVjo72gAa",
        "colab_type": "code",
        "colab": {}
      },
      "source": [
        ""
      ],
      "execution_count": null,
      "outputs": []
    },
    {
      "cell_type": "code",
      "metadata": {
        "id": "hAlRIIbWZHGB",
        "colab_type": "code",
        "colab": {}
      },
      "source": [
        "from numpy import random\n",
        "\n",
        "x = random.randint(10, size=(10, 10))\n",
        "\n",
        "print(x)"
      ],
      "execution_count": null,
      "outputs": []
    }
  ]
}