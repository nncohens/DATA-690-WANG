{
  "nbformat": 4,
  "nbformat_minor": 0,
  "metadata": {
    "colab": {
      "name": "Homework #3",
      "provenance": [],
      "collapsed_sections": [],
      "authorship_tag": "ABX9TyPnYwKXqRSOUdLKpyA1f2Li",
      "include_colab_link": true
    },
    "kernelspec": {
      "name": "python3",
      "display_name": "Python 3"
    }
  },
  "cells": [
    {
      "cell_type": "markdown",
      "metadata": {
        "id": "view-in-github",
        "colab_type": "text"
      },
      "source": [
        "<a href=\"https://colab.research.google.com/github/nncohens/DATA-690-WANG/blob/master/Homework_3.ipynb\" target=\"_parent\"><img src=\"https://colab.research.google.com/assets/colab-badge.svg\" alt=\"Open In Colab\"/></a>"
      ]
    },
    {
      "cell_type": "code",
      "metadata": {
        "id": "ZVriGQ_TYvV1",
        "colab_type": "code",
        "colab": {
          "base_uri": "https://localhost:8080/",
          "height": 34
        },
        "outputId": "c1f57308-e49e-49b0-a404-a3d9112ff067"
      },
      "source": [
        "x = [1,2,3,4,5]\n",
        "print(x)"
      ],
      "execution_count": 2,
      "outputs": [
        {
          "output_type": "stream",
          "text": [
            "[1, 2, 3, 4, 5]\n"
          ],
          "name": "stdout"
        }
      ]
    },
    {
      "cell_type": "code",
      "metadata": {
        "id": "IYABGMkKY-PN",
        "colab_type": "code",
        "colab": {
          "base_uri": "https://localhost:8080/",
          "height": 102
        },
        "outputId": "3bd232dc-92ff-4414-94c5-d8691dc645d8"
      },
      "source": [
        "for num in x:\n",
        "    print(num)"
      ],
      "execution_count": 3,
      "outputs": [
        {
          "output_type": "stream",
          "text": [
            "1\n",
            "2\n",
            "3\n",
            "4\n",
            "5\n"
          ],
          "name": "stdout"
        }
      ]
    },
    {
      "cell_type": "code",
      "metadata": {
        "id": "jb1uo8asZC6a",
        "colab_type": "code",
        "colab": {
          "base_uri": "https://localhost:8080/",
          "height": 34
        },
        "outputId": "51db3c6b-82f1-4b86-8b2c-6b475cb8f2df"
      },
      "source": [
        "for num in x:\n",
        "    print(num, end= \"\")"
      ],
      "execution_count": 4,
      "outputs": [
        {
          "output_type": "stream",
          "text": [
            "12345"
          ],
          "name": "stdout"
        }
      ]
    },
    {
      "cell_type": "code",
      "metadata": {
        "id": "AW_wtgRXZL6z",
        "colab_type": "code",
        "colab": {
          "base_uri": "https://localhost:8080/",
          "height": 34
        },
        "outputId": "9a489e07-3f61-48da-92fb-3ab24e05dac0"
      },
      "source": [
        "for num in x:\n",
        "    print(num, end= \"  \")"
      ],
      "execution_count": 5,
      "outputs": [
        {
          "output_type": "stream",
          "text": [
            "1  2  3  4  5  "
          ],
          "name": "stdout"
        }
      ]
    },
    {
      "cell_type": "code",
      "metadata": {
        "id": "MWsdof4_ZWXF",
        "colab_type": "code",
        "colab": {
          "base_uri": "https://localhost:8080/",
          "height": 34
        },
        "outputId": "5c0ff4ac-d7ec-4a18-8825-317306384ba7"
      },
      "source": [
        "for num in x:\n",
        "    print(num, end= \"*\")"
      ],
      "execution_count": 6,
      "outputs": [
        {
          "output_type": "stream",
          "text": [
            "1*2*3*4*5*"
          ],
          "name": "stdout"
        }
      ]
    },
    {
      "cell_type": "code",
      "metadata": {
        "id": "ZmbKm0TLZf4L",
        "colab_type": "code",
        "colab": {
          "base_uri": "https://localhost:8080/",
          "height": 34
        },
        "outputId": "eafaf638-77fb-46e8-f1df-87e7432842e1"
      },
      "source": [
        "for num in x:\n",
        "    print(num, end= \"*     *\")"
      ],
      "execution_count": 7,
      "outputs": [
        {
          "output_type": "stream",
          "text": [
            "1*     *2*     *3*     *4*     *5*     *"
          ],
          "name": "stdout"
        }
      ]
    },
    {
      "cell_type": "code",
      "metadata": {
        "id": "nkbbXlEwaNts",
        "colab_type": "code",
        "colab": {
          "base_uri": "https://localhost:8080/",
          "height": 68
        },
        "outputId": "007c132a-1562-428c-a98f-932d243e8fa1"
      },
      "source": [
        "import random\n",
        "\n",
        "print(random.randint(0,9)) \n",
        "print(random.randint(0,9))\n",
        "print(random.randint(0,9))      "
      ],
      "execution_count": 10,
      "outputs": [
        {
          "output_type": "stream",
          "text": [
            "5\n",
            "7\n",
            "8\n"
          ],
          "name": "stdout"
        }
      ]
    },
    {
      "cell_type": "code",
      "metadata": {
        "id": "a3B8qEvuabzd",
        "colab_type": "code",
        "colab": {
          "base_uri": "https://localhost:8080/",
          "height": 34
        },
        "outputId": "8c2c476b-15e1-4afc-c15e-eacfc06b0236"
      },
      "source": [
        "for i in range(10):\n",
        "  print(random.randint(0,9), end=\"  \")"
      ],
      "execution_count": 13,
      "outputs": [
        {
          "output_type": "stream",
          "text": [
            "1  7  7  6  1  6  7  0  0  3  "
          ],
          "name": "stdout"
        }
      ]
    },
    {
      "cell_type": "code",
      "metadata": {
        "id": "45gR9Kswbq_H",
        "colab_type": "code",
        "colab": {
          "base_uri": "https://localhost:8080/",
          "height": 85
        },
        "outputId": "c908cf69-893f-42ed-c9f3-c042840eab91"
      },
      "source": [
        "for i in range(10):\n",
        "  print(random.randint(0,9), end=\"  \")\n",
        "\n",
        "print(\"\\n\")\n",
        "\n",
        "for i in range(10):\n",
        "  print(random.randint(0,9), end=\"  \")\n",
        "\n",
        "print(\"\\n\")\n"
      ],
      "execution_count": 18,
      "outputs": [
        {
          "output_type": "stream",
          "text": [
            "4  4  2  8  0  0  3  2  6  3  \n",
            "\n",
            "0  0  8  7  9  4  1  8  2  0  \n",
            "\n"
          ],
          "name": "stdout"
        }
      ]
    },
    {
      "cell_type": "markdown",
      "metadata": {
        "id": "PgWuMFj2pVoD",
        "colab_type": "text"
      },
      "source": [
        "Solution to Question 1"
      ]
    },
    {
      "cell_type": "code",
      "metadata": {
        "id": "yBt96tqecuj5",
        "colab_type": "code",
        "colab": {
          "base_uri": "https://localhost:8080/",
          "height": 357
        },
        "outputId": "15dc977b-28c3-4d76-9820-55c76f404d00"
      },
      "source": [
        "#Solution 1\n",
        "\n",
        "for outer_i in range(10):\n",
        "\n",
        "  for inner_i in range(10): #creates  10 numbers in the line\n",
        "      print(random.randint(0,9), end=\"  \") #the number in the line must be random between 0 and 9 end establishes the number of spaces\n",
        "\n",
        "  print(\"\\n\") #creates a new line"
      ],
      "execution_count": 19,
      "outputs": [
        {
          "output_type": "stream",
          "text": [
            "2  5  9  0  6  8  7  9  6  7  \n",
            "\n",
            "6  9  5  8  6  4  9  2  2  9  \n",
            "\n",
            "3  5  7  7  1  5  0  0  2  1  \n",
            "\n",
            "7  5  1  9  2  2  6  3  4  7  \n",
            "\n",
            "1  8  7  5  2  3  3  5  5  4  \n",
            "\n",
            "0  3  2  7  0  6  7  4  7  6  \n",
            "\n",
            "3  1  3  3  8  1  5  2  1  0  \n",
            "\n",
            "5  5  7  8  9  6  5  2  3  9  \n",
            "\n",
            "0  7  9  0  1  7  9  8  8  1  \n",
            "\n",
            "8  3  0  7  0  2  3  2  9  7  \n",
            "\n"
          ],
          "name": "stdout"
        }
      ]
    },
    {
      "cell_type": "code",
      "metadata": {
        "id": "neBzG04fdXfa",
        "colab_type": "code",
        "colab": {}
      },
      "source": [
        ""
      ],
      "execution_count": null,
      "outputs": []
    },
    {
      "cell_type": "markdown",
      "metadata": {
        "id": "A1ZxKD5GdbEe",
        "colab_type": "text"
      },
      "source": [
        "Solution to Question #2"
      ]
    },
    {
      "cell_type": "code",
      "metadata": {
        "id": "sHv7SKFjdfNk",
        "colab_type": "code",
        "colab": {
          "base_uri": "https://localhost:8080/",
          "height": 357
        },
        "outputId": "754d15f4-6681-4327-f7df-7e4eb0f3063d"
      },
      "source": [
        "for outer_i in range(10):\n",
        "\n",
        "  for inner_i in range(10):\n",
        "      x = random.randint(0,9)\n",
        "      if x % 2 == 0:                #indicates remainder is equal to zero\n",
        "        print(x, end=\"  \")          #print x is there is no remainder with a space\n",
        "      else:\n",
        "        print(\"@\", end=\"  \")\n",
        "\n",
        "\n",
        "  print(\"\\n\")"
      ],
      "execution_count": 20,
      "outputs": [
        {
          "output_type": "stream",
          "text": [
            "@  6  @  2  @  2  4  2  8  6  \n",
            "\n",
            "@  @  @  @  @  @  @  8  @  @  \n",
            "\n",
            "2  6  @  0  @  0  6  0  @  @  \n",
            "\n",
            "@  8  @  @  @  4  @  @  2  @  \n",
            "\n",
            "@  0  @  @  @  @  @  0  @  0  \n",
            "\n",
            "@  2  4  2  @  2  @  4  @  @  \n",
            "\n",
            "@  8  8  @  0  8  0  8  2  2  \n",
            "\n",
            "@  @  @  @  8  8  @  6  2  @  \n",
            "\n",
            "4  @  2  @  @  6  4  8  @  @  \n",
            "\n",
            "@  @  6  @  6  @  0  @  @  4  \n",
            "\n"
          ],
          "name": "stdout"
        }
      ]
    },
    {
      "cell_type": "code",
      "metadata": {
        "id": "fyWwfrZAf9Nw",
        "colab_type": "code",
        "colab": {}
      },
      "source": [
        "print (\" x = random.randint(0,9)\n",
        "      if x % 2 == 0:\n",
        "        print(x, end=\"  \")  #end option to eliminate new line and to leave space\n",
        "      else:\n",
        "        print(\"@\", end=\"  \")\")"
      ],
      "execution_count": null,
      "outputs": []
    },
    {
      "cell_type": "code",
      "metadata": {
        "id": "m5x0eh5zezK6",
        "colab_type": "code",
        "colab": {
          "base_uri": "https://localhost:8080/",
          "height": 129
        },
        "outputId": "b6d83806-7963-4b33-e6b5-9c3f594ef820"
      },
      "source": [
        "#only print numbers that are divisible by 5\n",
        "x = random.randint(10,20)\n",
        "      if x % 5 == 0:\n",
        "        print(x, end=\"  \")\n",
        "      else:\n",
        "        print(\"this number is not divisible by 5\", end=\"  \")\n",
        "\n",
        "\n",
        "  print(x)"
      ],
      "execution_count": 26,
      "outputs": [
        {
          "output_type": "error",
          "ename": "IndentationError",
          "evalue": "ignored",
          "traceback": [
            "\u001b[0;36m  File \u001b[0;32m\"<ipython-input-26-5bf4c32af2fa>\"\u001b[0;36m, line \u001b[0;32m3\u001b[0m\n\u001b[0;31m    if x % 5 == 0:\u001b[0m\n\u001b[0m    ^\u001b[0m\n\u001b[0;31mIndentationError\u001b[0m\u001b[0;31m:\u001b[0m unexpected indent\n"
          ]
        }
      ]
    },
    {
      "cell_type": "code",
      "metadata": {
        "id": "qOWJfeR9i0UG",
        "colab_type": "code",
        "colab": {}
      },
      "source": [
        ""
      ],
      "execution_count": null,
      "outputs": []
    },
    {
      "cell_type": "code",
      "metadata": {
        "id": "1aZJ068sjAdR",
        "colab_type": "code",
        "colab": {}
      },
      "source": [
        ""
      ],
      "execution_count": null,
      "outputs": []
    },
    {
      "cell_type": "code",
      "metadata": {
        "colab_type": "code",
        "id": "LP3BUoW7jBAh",
        "colab": {
          "base_uri": "https://localhost:8080/",
          "height": 357
        },
        "outputId": "754d15f4-6681-4327-f7df-7e4eb0f3063d"
      },
      "source": [
        "for outer_i in range(10):\n",
        "\n",
        "  for inner_i in range(10):\n",
        "      x = random.randint(0,9)\n",
        "      if x % 2 == 0:\n",
        "        print(x, end=\"  \")\n",
        "      else:\n",
        "        print(\"@\", end=\"  \")\n",
        "\n",
        "\n",
        "  print(\"\\n\")"
      ],
      "execution_count": null,
      "outputs": [
        {
          "output_type": "stream",
          "text": [
            "@  6  @  2  @  2  4  2  8  6  \n",
            "\n",
            "@  @  @  @  @  @  @  8  @  @  \n",
            "\n",
            "2  6  @  0  @  0  6  0  @  @  \n",
            "\n",
            "@  8  @  @  @  4  @  @  2  @  \n",
            "\n",
            "@  0  @  @  @  @  @  0  @  0  \n",
            "\n",
            "@  2  4  2  @  2  @  4  @  @  \n",
            "\n",
            "@  8  8  @  0  8  0  8  2  2  \n",
            "\n",
            "@  @  @  @  8  8  @  6  2  @  \n",
            "\n",
            "4  @  2  @  @  6  4  8  @  @  \n",
            "\n",
            "@  @  6  @  6  @  0  @  @  4  \n",
            "\n"
          ],
          "name": "stdout"
        }
      ]
    },
    {
      "cell_type": "markdown",
      "metadata": {
        "id": "-ZTxXpqNDn9X",
        "colab_type": "text"
      },
      "source": [
        "Solution to Question #3"
      ]
    },
    {
      "cell_type": "code",
      "metadata": {
        "colab_type": "code",
        "id": "Ko8Wyds1jJDd",
        "colab": {
          "base_uri": "https://localhost:8080/",
          "height": 187
        },
        "outputId": "ae8a3d3d-5ff4-4c09-899a-5a12af2feace"
      },
      "source": [
        "#Solution 3\n",
        "for outer_i in range(10):\n",
        "    total = 0\n",
        "    for inner_i in range(10):\n",
        "        x = random.randint(0,9)\n",
        "        total = total + x   #total is = 0 + x\n",
        "        print(x, end=\" \") #first print x, then a space\n",
        "\n",
        "    print(\"*\",total)\n",
        "   "
      ],
      "execution_count": 47,
      "outputs": [
        {
          "output_type": "stream",
          "text": [
            "0 5 7 3 9 4 6 4 3 3 * 44\n",
            "8 6 5 4 9 2 5 4 1 2 * 46\n",
            "0 9 7 0 3 7 1 5 8 7 * 47\n",
            "5 7 8 7 7 0 3 6 0 1 * 44\n",
            "4 4 2 4 8 6 3 9 2 7 * 49\n",
            "9 7 1 8 3 6 4 3 9 5 * 55\n",
            "4 5 3 4 8 3 1 6 1 1 * 36\n",
            "4 8 4 8 4 2 6 0 9 0 * 45\n",
            "4 1 6 1 8 9 3 8 8 4 * 52\n",
            "8 6 3 9 6 5 6 2 1 8 * 54\n"
          ],
          "name": "stdout"
        }
      ]
    },
    {
      "cell_type": "code",
      "metadata": {
        "id": "zvMQwK_9lCXS",
        "colab_type": "code",
        "colab": {
          "base_uri": "https://localhost:8080/",
          "height": 34
        },
        "outputId": "bf6a521a-0273-4ed1-93ac-8535756deb3a"
      },
      "source": [
        "x = [0,1,2,3,4,5,6,7,8,9]\n",
        "print (x, end=\"\")\n",
        "print(\" *\")"
      ],
      "execution_count": 35,
      "outputs": [
        {
          "output_type": "stream",
          "text": [
            "[0, 1, 2, 3, 4, 5, 6, 7, 8, 9] *\n"
          ],
          "name": "stdout"
        }
      ]
    }
  ]
}