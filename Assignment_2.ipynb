{
  "nbformat": 4,
  "nbformat_minor": 0,
  "metadata": {
    "colab": {
      "name": "Assignment 2",
      "provenance": [],
      "authorship_tag": "ABX9TyNn5HSiD3eiMgCvMlNbHWCP",
      "include_colab_link": true
    },
    "kernelspec": {
      "name": "python3",
      "display_name": "Python 3"
    }
  },
  "cells": [
    {
      "cell_type": "markdown",
      "metadata": {
        "id": "view-in-github",
        "colab_type": "text"
      },
      "source": [
        "<a href=\"https://colab.research.google.com/github/ncohens/DATA-690-WANG/blob/master/Assignment_2.ipynb\" target=\"_parent\"><img src=\"https://colab.research.google.com/assets/colab-badge.svg\" alt=\"Open In Colab\"/></a>"
      ]
    },
    {
      "cell_type": "code",
      "metadata": {
        "id": "oSuQbJ1v8CDY",
        "colab_type": "code",
        "colab": {}
      },
      "source": [
        "# (1) Prompts a user to enter 10 numbers.\n",
        "# (2)If the user enters anything other than numbers, remind her that only numbers are allowed and let her retry.\n",
        "# (3)Don't allow the user to enter more than 10 or less than 10 numbers.\n",
        "# (4)Display the 10 numbers back to the user at the end.\n",
        "# (5)Calculate the following statistics from the 10 numbers entered:\n",
        "#   (.)Minimum\n",
        "#   (.)Maximum\n",
        "#   (.)Range \n",
        "#   (.)Mean\n",
        "#   (.)Variance\n",
        "#   (.)Standard Deviation"
      ],
      "execution_count": null,
      "outputs": []
    },
    {
      "cell_type": "code",
      "metadata": {
        "id": "QIu6iDpkQr7w",
        "colab_type": "code",
        "colab": {}
      },
      "source": [
        "somelist =  [1,12,2,53,23,6,17] \n",
        "max_value = max(somelist)\n",
        "min_value = min(somelist)\n",
        "avg_value = 0 if len(somelist) == 0 else sum(somelist)/len(somelist)  "
      ],
      "execution_count": 7,
      "outputs": []
    },
    {
      "cell_type": "code",
      "metadata": {
        "id": "lamkRsIxT96-",
        "colab_type": "code",
        "colab": {}
      },
      "source": [
        "def minmax(val_list):\n",
        "    min_val = min(val_list)\n",
        "    max_val = max(val_list)\n",
        "\n",
        "    return (min_val, max_val)"
      ],
      "execution_count": null,
      "outputs": []
    },
    {
      "cell_type": "code",
      "metadata": {
        "id": "B2ILf-4LWOWp",
        "colab_type": "code",
        "colab": {}
      },
      "source": [
        ""
      ],
      "execution_count": null,
      "outputs": []
    },
    {
      "cell_type": "code",
      "metadata": {
        "id": "nn-1CFpZUObZ",
        "colab_type": "code",
        "colab": {
          "base_uri": "https://localhost:8080/",
          "height": 102
        },
        "outputId": "3d9fea23-e3fd-40a8-f774-d79b328ca916"
      },
      "source": [
        "a = int(input(\"Enter an integer: \"))\n",
        "b = int(input(\"Enter an integer: \"))\n",
        "c = int(input(\"Enter an integer: \"))\n",
        "d = int(input(\"Enter an integer: \"))\n",
        "total = (a+b+c+d)/4\n",
        "print(total)\n",
        "maximum = max(a,b,c,d)\n",
        "minimum = min(a,b,c,d)\n",
        "print (min( a,b,c,d ) )\n"
      ],
      "execution_count": 17,
      "outputs": [
        {
          "output_type": "stream",
          "text": [
            "Enter an integer: 3\n",
            "Enter an integer: 5\n",
            "Enter an integer: 7\n",
            "Enter an integer: 9\n",
            "6.0\n"
          ],
          "name": "stdout"
        }
      ]
    },
    {
      "cell_type": "code",
      "metadata": {
        "id": "7mX6fW5IVZj5",
        "colab_type": "code",
        "colab": {
          "base_uri": "https://localhost:8080/",
          "height": 85
        },
        "outputId": "41e02fce-0e1e-46d1-82c1-e5f490c45a9f"
      },
      "source": [
        "a = int(input(\"Enter an Integer: \"))\n",
        "b = int(input(\"Enter an Integer: \"))\n",
        "print(\"Sum of a and b:\",a + b)\n",
        "print(\"Multiplication of a and b:\",a * b)\n",
        "\n",
        "print(\"Minimum of 4,12,43.3,19 and 100 is : \",end=\"\") \n",
        "print (min( 4,12,43.3,19,100 ) ) "
      ],
      "execution_count": 10,
      "outputs": [
        {
          "output_type": "stream",
          "text": [
            "Enter an Integer: 7\n",
            "Enter an Integer: 8\n",
            "Sum of a and b: 15\n",
            "Multiplication of a and b: 56\n"
          ],
          "name": "stdout"
        }
      ]
    }
  ]
}