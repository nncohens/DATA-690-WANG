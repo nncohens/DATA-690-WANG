{
  "nbformat": 4,
  "nbformat_minor": 0,
  "metadata": {
    "colab": {
      "name": "Assignment 2",
      "provenance": [],
      "collapsed_sections": [],
      "authorship_tag": "ABX9TyPMU2IWqZyC/bw3dF5UZaRa",
      "include_colab_link": true
    },
    "kernelspec": {
      "name": "python3",
      "display_name": "Python 3"
    }
  },
  "cells": [
    {
      "cell_type": "markdown",
      "metadata": {
        "id": "view-in-github",
        "colab_type": "text"
      },
      "source": [
        "<a href=\"https://colab.research.google.com/github/nncohens/DATA-690-WANG/blob/master/Assignment_2.ipynb\" target=\"_parent\"><img src=\"https://colab.research.google.com/assets/colab-badge.svg\" alt=\"Open In Colab\"/></a>"
      ]
    },
    {
      "cell_type": "code",
      "metadata": {
        "id": "oSuQbJ1v8CDY",
        "colab_type": "code",
        "colab": {}
      },
      "source": [
        "# (1) Prompts a user to enter 10 numbers.\n",
        "# (2)If the user enters anything other than numbers, remind her that only numbers are allowed and let her retry.\n",
        "# (3)Don't allow the user to enter more than 10 or less than 10 numbers.\n",
        "# (4)Display the 10 numbers back to the user at the end.\n",
        "# (5)Calculate the following statistics from the 10 numbers entered:\n",
        "#   (.)Minimum\n",
        "#   (.)Maximum\n",
        "#   (.)Range \n",
        "#   (.)Mean\n",
        "#   (.)Variance\n",
        "#   (.)Standard Deviation"
      ],
      "execution_count": null,
      "outputs": []
    },
    {
      "cell_type": "code",
      "metadata": {
        "id": "Mmtm-5iYJWH-",
        "colab_type": "code",
        "colab": {
          "base_uri": "https://localhost:8080/",
          "height": 816
        },
        "outputId": "2f89010f-7473-4772-cb5f-e7059a5cd1ad"
      },
      "source": [
        "import math \n",
        "num_list = []\n",
        "\n",
        "while len(num_list) < 10:\n",
        "\n",
        "    num = input(\"\\nplease enter an integer ([{len(num_list) + 1} of 10): \")\n",
        "\n",
        "    try:\n",
        "        num = int(num)\n",
        "        num_list.append(num)\n",
        "    except:\n",
        "        print(\"\\nYou have entered a non-integer. Please try again.\")\n",
        "\n",
        "    print(\"\\n\", num_list)\n",
        "\n",
        "    total = 0\n",
        "for num in num_list:\n",
        "    total += num\n",
        "\n",
        "average = total/len(num_list)\n",
        "\n",
        "var = 0      #create numerator\n",
        "for num in num_list:\n",
        "     var += (num - average)**2\n",
        "\n",
        "\n",
        "variance =var/((len(num_list))-1)\n",
        "stddev = math.sqrt(variance)\n",
        "\n",
        "print(\"The numbers you entered are:\" , num_list)\n",
        "print(\"The average is\", average ) \n",
        "print (\"The smallest number you entered is\",min(num_list) )\n",
        "print (\"The largest number you entered is\",max(num_list) )\n",
        "print(\"The range is\",max(num_list)-min(num_list))\n",
        "print(\"The variance is\",variance)\n",
        "print(\"The std dev is\",stddev)\n"
      ],
      "execution_count": 18,
      "outputs": [
        {
          "output_type": "stream",
          "text": [
            "\n",
            "please enter an integer ([{len(num_list) + 1} of 10): 2\n",
            "\n",
            " [2]\n",
            "\n",
            "please enter an integer ([{len(num_list) + 1} of 10): 4\n",
            "\n",
            " [2, 4]\n",
            "\n",
            "please enter an integer ([{len(num_list) + 1} of 10): 6\n",
            "\n",
            " [2, 4, 6]\n",
            "\n",
            "please enter an integer ([{len(num_list) + 1} of 10): 8\n",
            "\n",
            " [2, 4, 6, 8]\n",
            "\n",
            "please enter an integer ([{len(num_list) + 1} of 10): 10\n",
            "\n",
            " [2, 4, 6, 8, 10]\n",
            "\n",
            "please enter an integer ([{len(num_list) + 1} of 10): 12\n",
            "\n",
            " [2, 4, 6, 8, 10, 12]\n",
            "\n",
            "please enter an integer ([{len(num_list) + 1} of 10): 14\n",
            "\n",
            " [2, 4, 6, 8, 10, 12, 14]\n",
            "\n",
            "please enter an integer ([{len(num_list) + 1} of 10): 16\n",
            "\n",
            " [2, 4, 6, 8, 10, 12, 14, 16]\n",
            "\n",
            "please enter an integer ([{len(num_list) + 1} of 10): 18\n",
            "\n",
            " [2, 4, 6, 8, 10, 12, 14, 16, 18]\n",
            "\n",
            "please enter an integer ([{len(num_list) + 1} of 10): 20\n",
            "\n",
            " [2, 4, 6, 8, 10, 12, 14, 16, 18, 20]\n",
            "The numbers you entered are: [2, 4, 6, 8, 10, 12, 14, 16, 18, 20]\n",
            "The average is 11.0\n",
            "The smallest number you entered is 2\n",
            "The largest number you entered is 20\n",
            "The range is 18\n",
            "The variance is 36.666666666666664\n",
            "The std dev is 6.0553007081949835\n"
          ],
          "name": "stdout"
        }
      ]
    },
    {
      "cell_type": "code",
      "metadata": {
        "id": "B2ILf-4LWOWp",
        "colab_type": "code",
        "colab": {}
      },
      "source": [
        ""
      ],
      "execution_count": null,
      "outputs": []
    }
  ]
}