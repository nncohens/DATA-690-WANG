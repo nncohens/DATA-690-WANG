{
  "nbformat": 4,
  "nbformat_minor": 0,
  "metadata": {
    "colab": {
      "name": "Assignment 2",
      "provenance": [],
      "collapsed_sections": [],
      "authorship_tag": "ABX9TyN+lsJZHovJMmYKcMP63+00",
      "include_colab_link": true
    },
    "kernelspec": {
      "name": "python3",
      "display_name": "Python 3"
    }
  },
  "cells": [
    {
      "cell_type": "markdown",
      "metadata": {
        "id": "view-in-github",
        "colab_type": "text"
      },
      "source": [
        "<a href=\"https://colab.research.google.com/github/nncohens/DATA-690-WANG/blob/master/Assignment_2.ipynb\" target=\"_parent\"><img src=\"https://colab.research.google.com/assets/colab-badge.svg\" alt=\"Open In Colab\"/></a>"
      ]
    },
    {
      "cell_type": "code",
      "metadata": {
        "id": "oSuQbJ1v8CDY",
        "colab_type": "code",
        "colab": {}
      },
      "source": [
        "# (1) Prompts a user to enter 10 numbers.\n",
        "# (2)If the user enters anything other than numbers, remind her that only numbers are allowed and let her retry.\n",
        "# (3)Don't allow the user to enter more than 10 or less than 10 numbers.\n",
        "# (4)Display the 10 numbers back to the user at the end.\n",
        "# (5)Calculate the following statistics from the 10 numbers entered:\n",
        "#   (.)Minimum\n",
        "#   (.)Maximum\n",
        "#   (.)Range \n",
        "#   (.)Mean\n",
        "#   (.)Variance\n",
        "#   (.)Standard Deviation"
      ],
      "execution_count": null,
      "outputs": []
    },
    {
      "cell_type": "code",
      "metadata": {
        "id": "Mmtm-5iYJWH-",
        "colab_type": "code",
        "colab": {
          "base_uri": "https://localhost:8080/",
          "height": 129
        },
        "outputId": "417f2985-6d9f-4300-a4b6-f84298b09ec6"
      },
      "source": [
        "import math \n",
        "num_list = []\n",
        "\n",
        "while len(num_list) < 4:\n",
        "\n",
        "    num = input(\"\\nplease enter an integer ([{len(num_list) + 1} of 4): \")\n",
        "\n",
        "    try:\n",
        "        num = int(num)\n",
        "        num_list.append(num)\n",
        "    except:\n",
        "        print(\"\\nYou have entered a non-integer. Please try again.\")\n",
        "\n",
        "    print(\"\\n\", num_list)\n",
        "\n",
        "    total = 0\n",
        "for num in num_list:\n",
        "    total += num\n",
        "\n",
        "average = total/len(num_list)\n",
        "\n",
        "     var = 0     \n",
        "for num in num_list:\n",
        "    var += num - average\n",
        "\n",
        "#variance = - average)**2\n",
        "#stddev = math.sqrt(variance)\n",
        "\n",
        "print(\"The numbers you entered are:\" , num_list)\n",
        "print(\"The average is =\", average ) \n",
        "print (\"The smallest number you entered is\",min(num_list) )\n",
        "print (\"The largest number you entered is\",max(num_list) )\n",
        "print(\"The range is\",max(num_list)-min(num_list))\n",
        "#print(\"The variance is\",variance)\n",
        "#print(\"The std dev is\",stddev)\n"
      ],
      "execution_count": 13,
      "outputs": [
        {
          "output_type": "error",
          "ename": "IndentationError",
          "evalue": "ignored",
          "traceback": [
            "\u001b[0;36m  File \u001b[0;32m\"<ipython-input-13-ef6381caee0a>\"\u001b[0;36m, line \u001b[0;32m22\u001b[0m\n\u001b[0;31m    var = 0\u001b[0m\n\u001b[0m    ^\u001b[0m\n\u001b[0;31mIndentationError\u001b[0m\u001b[0;31m:\u001b[0m unexpected indent\n"
          ]
        }
      ]
    },
    {
      "cell_type": "code",
      "metadata": {
        "id": "B2ILf-4LWOWp",
        "colab_type": "code",
        "colab": {}
      },
      "source": [
        ""
      ],
      "execution_count": null,
      "outputs": []
    }
  ]
}