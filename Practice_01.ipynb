{
  "nbformat": 4,
  "nbformat_minor": 0,
  "metadata": {
    "kernelspec": {
      "display_name": "Python 3",
      "language": "python",
      "name": "python3"
    },
    "language_info": {
      "codemirror_mode": {
        "name": "ipython",
        "version": 3
      },
      "file_extension": ".py",
      "mimetype": "text/x-python",
      "name": "python",
      "nbconvert_exporter": "python",
      "pygments_lexer": "ipython3",
      "version": "3.6.5"
    },
    "colab": {
      "name": "Practice-01.ipynb",
      "provenance": [],
      "include_colab_link": true
    }
  },
  "cells": [
    {
      "cell_type": "markdown",
      "metadata": {
        "id": "view-in-github",
        "colab_type": "text"
      },
      "source": [
        "<a href=\"https://colab.research.google.com/github/nncohens/DATA-690-WANG/blob/master/Practice_01.ipynb\" target=\"_parent\"><img src=\"https://colab.research.google.com/assets/colab-badge.svg\" alt=\"Open In Colab\"/></a>"
      ]
    },
    {
      "cell_type": "code",
      "metadata": {
        "id": "grjoDDbdDb-y",
        "colab_type": "code",
        "colab": {},
        "outputId": "7df3ccfb-db22-4ba6-cc95-e887e389b339"
      },
      "source": [
        "print (\"Hello World\")"
      ],
      "execution_count": null,
      "outputs": [
        {
          "output_type": "stream",
          "text": [
            "Hello World\n"
          ],
          "name": "stdout"
        }
      ]
    },
    {
      "cell_type": "code",
      "metadata": {
        "id": "Dv2Ej9_jDb_F",
        "colab_type": "code",
        "colab": {},
        "outputId": "e9c38e20-8d0b-4d8b-bc95-6fe12754dc94"
      },
      "source": [
        "%run hello_world.py"
      ],
      "execution_count": null,
      "outputs": [
        {
          "output_type": "stream",
          "text": [
            "ERROR:root:File `'hello_world.py'` not found.\n"
          ],
          "name": "stderr"
        }
      ]
    },
    {
      "cell_type": "code",
      "metadata": {
        "id": "psAr77MADb_i",
        "colab_type": "code",
        "colab": {}
      },
      "source": [
        "import numpy as np"
      ],
      "execution_count": null,
      "outputs": []
    },
    {
      "cell_type": "code",
      "metadata": {
        "id": "v1b6499fDb_x",
        "colab_type": "code",
        "colab": {}
      },
      "source": [
        "data = {i : np.random.randn() for i in range(7)}"
      ],
      "execution_count": null,
      "outputs": []
    },
    {
      "cell_type": "code",
      "metadata": {
        "id": "wnBIDcOdDcAN",
        "colab_type": "code",
        "colab": {},
        "outputId": "8b1f492d-36b9-4ce5-a948-d8ec665b6370"
      },
      "source": [
        "In [7]: data\n"
      ],
      "execution_count": null,
      "outputs": [
        {
          "output_type": "execute_result",
          "data": {
            "text/plain": [
              "{0: 0.4734770844294632,\n",
              " 1: -0.7848488949279743,\n",
              " 2: -0.7731531315682865,\n",
              " 3: 0.40019862921480226,\n",
              " 4: 1.4069543229373458,\n",
              " 5: -1.5135215087641618,\n",
              " 6: 0.826651047375698}"
            ]
          },
          "metadata": {
            "tags": []
          },
          "execution_count": 10
        }
      ]
    },
    {
      "cell_type": "code",
      "metadata": {
        "id": "ZZzsK_BFDcAf",
        "colab_type": "code",
        "colab": {},
        "outputId": "92d05be5-b78c-4632-d141-d9272d563ba2"
      },
      "source": [
        "from numpy.random import randn\n",
        "data = {i : randn() for i in range(7)}\n",
        "print(data)"
      ],
      "execution_count": null,
      "outputs": [
        {
          "output_type": "stream",
          "text": [
            "{0: 1.310673590479894, 1: -1.1307076950091568, 2: -0.8214606908809048, 3: 0.9648773689792528, 4: -1.4768831498199335, 5: 1.3533865004303844, 6: 0.5569721090432742}\n"
          ],
          "name": "stdout"
        }
      ]
    },
    {
      "cell_type": "code",
      "metadata": {
        "id": "_3m1JH7cDcAu",
        "colab_type": "code",
        "colab": {},
        "outputId": "5bc5968a-8348-4a73-fd1b-4a4d98f58d54"
      },
      "source": [
        "an_apple = 27\n",
        "an_example = 42\n",
        "an_apple and an_example any"
      ],
      "execution_count": null,
      "outputs": [
        {
          "output_type": "error",
          "ename": "SyntaxError",
          "evalue": "invalid syntax (<ipython-input-14-8ff580cd4c3c>, line 3)",
          "traceback": [
            "\u001b[1;36m  File \u001b[1;32m\"<ipython-input-14-8ff580cd4c3c>\"\u001b[1;36m, line \u001b[1;32m3\u001b[0m\n\u001b[1;33m    an_apple and an_example any\u001b[0m\n\u001b[1;37m                              ^\u001b[0m\n\u001b[1;31mSyntaxError\u001b[0m\u001b[1;31m:\u001b[0m invalid syntax\n"
          ]
        }
      ]
    },
    {
      "cell_type": "code",
      "metadata": {
        "id": "elQyUWHJDcA7",
        "colab_type": "code",
        "colab": {},
        "outputId": "bdfbdc74-0477-4fe9-fde4-27f170143b36"
      },
      "source": [
        "b = [1,2,3]\n",
        "b.append \n",
        "b.count \n",
        "b.insert \n",
        "b.reverse \n",
        "b.clear \n",
        "b.extend \n",
        "b.pop \n",
        "b.sort \n",
        "b.copy \n",
        "b.index \n",
        "b.remove"
      ],
      "execution_count": null,
      "outputs": [
        {
          "output_type": "execute_result",
          "data": {
            "text/plain": [
              "<function list.append>"
            ]
          },
          "metadata": {
            "tags": []
          },
          "execution_count": 17
        }
      ]
    },
    {
      "cell_type": "code",
      "metadata": {
        "id": "l9fZW7z-DcBN",
        "colab_type": "code",
        "colab": {}
      },
      "source": [
        "import datetime"
      ],
      "execution_count": null,
      "outputs": []
    },
    {
      "cell_type": "code",
      "metadata": {
        "id": "8bYwUNSZDcBa",
        "colab_type": "code",
        "colab": {},
        "outputId": "101550ef-6875-4fb7-fa17-830b0c72d2f9"
      },
      "source": [
        "datetime.date"
      ],
      "execution_count": null,
      "outputs": [
        {
          "output_type": "execute_result",
          "data": {
            "text/plain": [
              "datetime.date"
            ]
          },
          "metadata": {
            "tags": []
          },
          "execution_count": 19
        }
      ]
    },
    {
      "cell_type": "code",
      "metadata": {
        "id": "JhtqZxkvDcCS",
        "colab_type": "code",
        "colab": {}
      },
      "source": [
        "b = [1,2,3]"
      ],
      "execution_count": null,
      "outputs": []
    },
    {
      "cell_type": "code",
      "metadata": {
        "id": "LuNNH2gKDcCd",
        "colab_type": "code",
        "colab": {}
      },
      "source": [
        "b?"
      ],
      "execution_count": null,
      "outputs": []
    },
    {
      "cell_type": "code",
      "metadata": {
        "id": "wE3JzbuXDcCp",
        "colab_type": "code",
        "colab": {}
      },
      "source": [
        "print?"
      ],
      "execution_count": null,
      "outputs": []
    },
    {
      "cell_type": "code",
      "metadata": {
        "id": "y_f5ZRLDDcC1",
        "colab_type": "code",
        "colab": {}
      },
      "source": [
        "b?"
      ],
      "execution_count": null,
      "outputs": []
    },
    {
      "cell_type": "code",
      "metadata": {
        "id": "5_Z4BbfQDcDB",
        "colab_type": "code",
        "colab": {}
      },
      "source": [
        "#def add_numbers(a,b):\n",
        "    return a+b"
      ],
      "execution_count": null,
      "outputs": []
    },
    {
      "cell_type": "code",
      "metadata": {
        "id": "6h5tBR2WDcDo",
        "colab_type": "code",
        "colab": {}
      },
      "source": [
        "def f(x,y,z):  \n",
        "    return (x+y) /z\n",
        "a = 5\n",
        "b = 6\n",
        "c = 7.5\n",
        "\n",
        "result = f(a,b,c)"
      ],
      "execution_count": null,
      "outputs": []
    },
    {
      "cell_type": "code",
      "metadata": {
        "id": "k0inobQ0DcDy",
        "colab_type": "code",
        "colab": {},
        "outputId": "f49200f8-8015-489c-ab6d-3a6dc1c19e14"
      },
      "source": [
        "%run ipython_script_test.py"
      ],
      "execution_count": null,
      "outputs": [
        {
          "output_type": "stream",
          "text": [
            "ERROR:root:File `'ipython_script_test.py'` not found.\n"
          ],
          "name": "stderr"
        }
      ]
    },
    {
      "cell_type": "code",
      "metadata": {
        "id": "pd-OWXbUDcEJ",
        "colab_type": "code",
        "colab": {},
        "outputId": "763452ef-4872-4566-8596-c4de9ac2fc69"
      },
      "source": [
        "%matploblib inline"
      ],
      "execution_count": null,
      "outputs": [
        {
          "output_type": "stream",
          "text": [
            "UsageError: Line magic function `%matploblib` not found.\n"
          ],
          "name": "stderr"
        }
      ]
    },
    {
      "cell_type": "code",
      "metadata": {
        "id": "mIvnau18DcEW",
        "colab_type": "code",
        "colab": {},
        "outputId": "4633f454-dead-464a-89ce-f62acfef0b66"
      },
      "source": [
        "import matplotlib.pyplot as plt\n",
        "plt.plot(np.random.randn(50).cumsum())"
      ],
      "execution_count": null,
      "outputs": [
        {
          "output_type": "execute_result",
          "data": {
            "text/plain": [
              "[<matplotlib.lines.Line2D at 0x20deff44fd0>]"
            ]
          },
          "metadata": {
            "tags": []
          },
          "execution_count": 46
        }
      ]
    },
    {
      "cell_type": "code",
      "metadata": {
        "id": "h1gECDYHDcEf",
        "colab_type": "code",
        "colab": {},
        "outputId": "581a1004-1bf1-49ef-ffcb-88f0d95d351c"
      },
      "source": [
        "def append_element(some_list, element):\n",
        "    some_list.append(element)\n",
        "\n",
        "append_"
      ],
      "execution_count": null,
      "outputs": [
        {
          "output_type": "error",
          "ename": "NameError",
          "evalue": "name 'append_' is not defined",
          "traceback": [
            "\u001b[1;31m---------------------------------------------------------------------------\u001b[0m",
            "\u001b[1;31mNameError\u001b[0m                                 Traceback (most recent call last)",
            "\u001b[1;32m<ipython-input-47-281a6172733e>\u001b[0m in \u001b[0;36m<module>\u001b[1;34m()\u001b[0m\n\u001b[0;32m      2\u001b[0m     \u001b[0msome_list\u001b[0m\u001b[1;33m.\u001b[0m\u001b[0mappend\u001b[0m\u001b[1;33m(\u001b[0m\u001b[0melement\u001b[0m\u001b[1;33m)\u001b[0m\u001b[1;33m\u001b[0m\u001b[0m\n\u001b[0;32m      3\u001b[0m \u001b[1;33m\u001b[0m\u001b[0m\n\u001b[1;32m----> 4\u001b[1;33m \u001b[0mappend_\u001b[0m\u001b[1;33m\u001b[0m\u001b[0m\n\u001b[0m",
            "\u001b[1;31mNameError\u001b[0m: name 'append_' is not defined"
          ]
        }
      ]
    },
    {
      "cell_type": "code",
      "metadata": {
        "id": "i209qT78DcEr",
        "colab_type": "code",
        "colab": {},
        "outputId": "42d50ccf-7107-4783-80dd-31e0f9bc5b39"
      },
      "source": [
        "def append_element(some_list, element):\n",
        "    some_list.append(element"
      ],
      "execution_count": null,
      "outputs": [
        {
          "output_type": "error",
          "ename": "SyntaxError",
          "evalue": "unexpected EOF while parsing (<ipython-input-48-33576f4b97b9>, line 2)",
          "traceback": [
            "\u001b[1;36m  File \u001b[1;32m\"<ipython-input-48-33576f4b97b9>\"\u001b[1;36m, line \u001b[1;32m2\u001b[0m\n\u001b[1;33m    some_list.append(element\u001b[0m\n\u001b[1;37m                            ^\u001b[0m\n\u001b[1;31mSyntaxError\u001b[0m\u001b[1;31m:\u001b[0m unexpected EOF while parsing\n"
          ]
        }
      ]
    },
    {
      "cell_type": "code",
      "metadata": {
        "id": "isTb2yrdDcE5",
        "colab_type": "code",
        "colab": {}
      },
      "source": [
        "def append_element(some_list, element):\n",
        "    some_list.append(element)"
      ],
      "execution_count": null,
      "outputs": []
    },
    {
      "cell_type": "code",
      "metadata": {
        "id": "egHQ4BbIDcFD",
        "colab_type": "code",
        "colab": {}
      },
      "source": [
        "data = [1,2,3]\n",
        "append_element(data,4)"
      ],
      "execution_count": null,
      "outputs": []
    },
    {
      "cell_type": "code",
      "metadata": {
        "id": "YROj2XcvDcFQ",
        "colab_type": "code",
        "colab": {},
        "outputId": "9b373ae7-4d94-4d5e-ef76-ef8a39d3b6b4"
      },
      "source": [
        "data"
      ],
      "execution_count": null,
      "outputs": [
        {
          "output_type": "execute_result",
          "data": {
            "text/plain": [
              "[1, 2, 3, 4]"
            ]
          },
          "metadata": {
            "tags": []
          },
          "execution_count": 51
        }
      ]
    },
    {
      "cell_type": "code",
      "metadata": {
        "id": "0lquPd0RDcFi",
        "colab_type": "code",
        "colab": {},
        "outputId": "ab32668b-bcec-486e-bb61-0e16c122ee2c"
      },
      "source": [
        "a = 5\n",
        "type(a)"
      ],
      "execution_count": null,
      "outputs": [
        {
          "output_type": "execute_result",
          "data": {
            "text/plain": [
              "int"
            ]
          },
          "metadata": {
            "tags": []
          },
          "execution_count": 52
        }
      ]
    },
    {
      "cell_type": "code",
      "metadata": {
        "id": "z6eO9rt_DcFw",
        "colab_type": "code",
        "colab": {},
        "outputId": "d45b69ac-5cf8-4fd2-dd25-bb0ae0ba2324"
      },
      "source": [
        "a = \"foo\"\n",
        "type(a)"
      ],
      "execution_count": null,
      "outputs": [
        {
          "output_type": "execute_result",
          "data": {
            "text/plain": [
              "str"
            ]
          },
          "metadata": {
            "tags": []
          },
          "execution_count": 1
        }
      ]
    },
    {
      "cell_type": "code",
      "metadata": {
        "id": "Qwb4BesADcF4",
        "colab_type": "code",
        "colab": {},
        "outputId": "0de31535-0841-450a-8925-2ffde5e6e5f4"
      },
      "source": [
        "a = 4.5\n",
        "b=2\n",
        "print('a is {0}, b is {1}'.format(type(a), type(b)))"
      ],
      "execution_count": null,
      "outputs": [
        {
          "output_type": "stream",
          "text": [
            "a is <class 'float'>, b is <class 'int'>\n"
          ],
          "name": "stdout"
        }
      ]
    },
    {
      "cell_type": "code",
      "metadata": {
        "id": "SfFV6bqJDcGE",
        "colab_type": "code",
        "colab": {},
        "outputId": "7bccda04-d1d3-4a33-c449-4a6a8fd19c04"
      },
      "source": [
        "a/b"
      ],
      "execution_count": null,
      "outputs": [
        {
          "output_type": "execute_result",
          "data": {
            "text/plain": [
              "2.25"
            ]
          },
          "metadata": {
            "tags": []
          },
          "execution_count": 55
        }
      ]
    },
    {
      "cell_type": "code",
      "metadata": {
        "id": "FTg0UaoEDcGT",
        "colab_type": "code",
        "colab": {},
        "outputId": "d3939bc6-77fc-42de-df7e-238d9854978e"
      },
      "source": [
        "a = 5\n",
        "isinstance(a, int)"
      ],
      "execution_count": null,
      "outputs": [
        {
          "output_type": "execute_result",
          "data": {
            "text/plain": [
              "True"
            ]
          },
          "metadata": {
            "tags": []
          },
          "execution_count": 56
        }
      ]
    },
    {
      "cell_type": "code",
      "metadata": {
        "id": "rcyXl2LPDcGf",
        "colab_type": "code",
        "colab": {},
        "outputId": "b685a393-ac8a-4a8e-9d97-00d853e12094"
      },
      "source": [
        "a = 5;b=4.5\n",
        "isinstance(a, (int, float))\n",
        "isinstance(b, (int, float))"
      ],
      "execution_count": null,
      "outputs": [
        {
          "output_type": "execute_result",
          "data": {
            "text/plain": [
              "True"
            ]
          },
          "metadata": {
            "tags": []
          },
          "execution_count": 57
        }
      ]
    },
    {
      "cell_type": "code",
      "metadata": {
        "id": "OvtuWJkGDcGo",
        "colab_type": "code",
        "colab": {},
        "outputId": "9ff30df0-cc72-41d2-e9dd-0fb568eac53e"
      },
      "source": [
        "a = \"foo\"\n",
        "getattr(a, 'split')"
      ],
      "execution_count": null,
      "outputs": [
        {
          "output_type": "execute_result",
          "data": {
            "text/plain": [
              "<function str.split>"
            ]
          },
          "metadata": {
            "tags": []
          },
          "execution_count": 58
        }
      ]
    },
    {
      "cell_type": "code",
      "metadata": {
        "id": "HJP8A2hdDcG3",
        "colab_type": "code",
        "colab": {},
        "outputId": "342f0e0a-c14a-4f37-b7a7-eaab4e094ae9"
      },
      "source": [
        "5-7"
      ],
      "execution_count": null,
      "outputs": [
        {
          "output_type": "execute_result",
          "data": {
            "text/plain": [
              "-2"
            ]
          },
          "metadata": {
            "tags": []
          },
          "execution_count": 59
        }
      ]
    },
    {
      "cell_type": "code",
      "metadata": {
        "id": "pjcR8QjHDcHE",
        "colab_type": "code",
        "colab": {},
        "outputId": "488a6ea7-b00b-41e5-9288-e1a2ce1e17b9"
      },
      "source": [
        "12+21.5"
      ],
      "execution_count": null,
      "outputs": [
        {
          "output_type": "execute_result",
          "data": {
            "text/plain": [
              "33.5"
            ]
          },
          "metadata": {
            "tags": []
          },
          "execution_count": 60
        }
      ]
    },
    {
      "cell_type": "code",
      "metadata": {
        "id": "eJF60ZEtDcHf",
        "colab_type": "code",
        "colab": {},
        "outputId": "5f4050fe-3b99-423e-83b2-32f2902c4747"
      },
      "source": [
        "5<= 2"
      ],
      "execution_count": null,
      "outputs": [
        {
          "output_type": "execute_result",
          "data": {
            "text/plain": [
              "False"
            ]
          },
          "metadata": {
            "tags": []
          },
          "execution_count": 61
        }
      ]
    },
    {
      "cell_type": "code",
      "metadata": {
        "id": "LuX4PpOPDcHq",
        "colab_type": "code",
        "colab": {},
        "outputId": "eb3ce38d-2525-40c7-99db-f59806c50bd2"
      },
      "source": [
        "a = [1,2,3]\n",
        "b=a\n",
        "c=list(a)\n",
        "a is b"
      ],
      "execution_count": null,
      "outputs": [
        {
          "output_type": "execute_result",
          "data": {
            "text/plain": [
              "True"
            ]
          },
          "metadata": {
            "tags": []
          },
          "execution_count": 62
        }
      ]
    },
    {
      "cell_type": "code",
      "metadata": {
        "id": "lALnoJQpDcH7",
        "colab_type": "code",
        "colab": {},
        "outputId": "983d5d99-1f0e-4fec-e4ee-f473485756b4"
      },
      "source": [
        "a is not c"
      ],
      "execution_count": null,
      "outputs": [
        {
          "output_type": "execute_result",
          "data": {
            "text/plain": [
              "True"
            ]
          },
          "metadata": {
            "tags": []
          },
          "execution_count": 63
        }
      ]
    },
    {
      "cell_type": "code",
      "metadata": {
        "id": "wkpNtjq6DcII",
        "colab_type": "code",
        "colab": {},
        "outputId": "30c1d1a4-75ae-4368-c8d9-6779f49a3036"
      },
      "source": [
        "a = None\n",
        "a is None"
      ],
      "execution_count": null,
      "outputs": [
        {
          "output_type": "execute_result",
          "data": {
            "text/plain": [
              "True"
            ]
          },
          "metadata": {
            "tags": []
          },
          "execution_count": 64
        }
      ]
    },
    {
      "cell_type": "code",
      "metadata": {
        "id": "nrNAjFicDcIT",
        "colab_type": "code",
        "colab": {},
        "outputId": "3dcd7089-4e4c-4311-a0fc-0e3381235565"
      },
      "source": [
        "a_list = ['foo', 2, [4,5]]\n",
        "a_list[2] = (3,4) #will replace anything after 2 #mutable- can be modified\n",
        "a_list"
      ],
      "execution_count": null,
      "outputs": [
        {
          "output_type": "execute_result",
          "data": {
            "text/plain": [
              "['foo', 2, (3, 4)]"
            ]
          },
          "metadata": {
            "tags": []
          },
          "execution_count": 68
        }
      ]
    },
    {
      "cell_type": "code",
      "metadata": {
        "id": "fVByJNGQDcIk",
        "colab_type": "code",
        "colab": {},
        "outputId": "baf43b2f-24a5-481a-acf6-ae4d00b58479"
      },
      "source": [
        "ival = 17239871\n",
        "ival **6"
      ],
      "execution_count": null,
      "outputs": [
        {
          "output_type": "execute_result",
          "data": {
            "text/plain": [
              "26254519291092456596965462913230729701102721"
            ]
          },
          "metadata": {
            "tags": []
          },
          "execution_count": 69
        }
      ]
    },
    {
      "cell_type": "code",
      "metadata": {
        "id": "jc0sAIXVDcIw",
        "colab_type": "code",
        "colab": {}
      },
      "source": [
        "fval = 7.243\n",
        "fval2 = 6.78e-5"
      ],
      "execution_count": null,
      "outputs": []
    },
    {
      "cell_type": "code",
      "metadata": {
        "id": "c07CZneTDcI8",
        "colab_type": "code",
        "colab": {},
        "outputId": "68b1c60f-f89a-4f53-f402-dcb1beff21f1"
      },
      "source": [
        "3/2"
      ],
      "execution_count": null,
      "outputs": [
        {
          "output_type": "execute_result",
          "data": {
            "text/plain": [
              "1.5"
            ]
          },
          "metadata": {
            "tags": []
          },
          "execution_count": 71
        }
      ]
    },
    {
      "cell_type": "code",
      "metadata": {
        "id": "PiOnDMmnDcJJ",
        "colab_type": "code",
        "colab": {}
      },
      "source": [
        ""
      ],
      "execution_count": null,
      "outputs": []
    },
    {
      "cell_type": "code",
      "metadata": {
        "id": "JvnhRJ2NDcJU",
        "colab_type": "code",
        "colab": {},
        "outputId": "a265764b-41a2-4b54-d95b-acd711825889"
      },
      "source": [
        "#//  drops the fraction (rounds down)\n",
        "3//2"
      ],
      "execution_count": null,
      "outputs": [
        {
          "output_type": "execute_result",
          "data": {
            "text/plain": [
              "1"
            ]
          },
          "metadata": {
            "tags": []
          },
          "execution_count": 72
        }
      ]
    },
    {
      "cell_type": "code",
      "metadata": {
        "id": "oEzFejneDcJd",
        "colab_type": "code",
        "colab": {}
      },
      "source": [
        "a = \"one way of writing a string\"\n",
        "b='another way of writing a string'\n",
        "c= \"\"\"\n",
        "This is a longer string that \n",
        "spans multiple lines\n",
        "\"\"\""
      ],
      "execution_count": null,
      "outputs": []
    },
    {
      "cell_type": "code",
      "metadata": {
        "id": "1XLqAoLNDcJo",
        "colab_type": "code",
        "colab": {},
        "outputId": "54784c08-2a20-4c65-d604-472b531a1f5e"
      },
      "source": [
        "c.count('\\n') #counts the lines of text"
      ],
      "execution_count": null,
      "outputs": [
        {
          "output_type": "execute_result",
          "data": {
            "text/plain": [
              "3"
            ]
          },
          "metadata": {
            "tags": []
          },
          "execution_count": 77
        }
      ]
    },
    {
      "cell_type": "code",
      "metadata": {
        "id": "mn7RP8hQDcJ5",
        "colab_type": "code",
        "colab": {},
        "outputId": "2d31942f-c98e-4a8e-d641-88b95bd39a9a"
      },
      "source": [
        "a = 5.6\n",
        "s =str(a) #indicating s is a string\n",
        "print(s)"
      ],
      "execution_count": null,
      "outputs": [
        {
          "output_type": "stream",
          "text": [
            "5.6\n"
          ],
          "name": "stdout"
        }
      ]
    },
    {
      "cell_type": "code",
      "metadata": {
        "id": "r4ZlB4vlDcKO",
        "colab_type": "code",
        "colab": {},
        "outputId": "580c1397-7be0-4e9b-dfe3-a369f9753603"
      },
      "source": [
        "s = 'python'\n",
        "list(s)"
      ],
      "execution_count": null,
      "outputs": [
        {
          "output_type": "execute_result",
          "data": {
            "text/plain": [
              "['p', 'y', 't', 'h', 'o', 'n']"
            ]
          },
          "metadata": {
            "tags": []
          },
          "execution_count": 2
        }
      ]
    },
    {
      "cell_type": "code",
      "metadata": {
        "id": "7RiuGupXDcKZ",
        "colab_type": "code",
        "colab": {},
        "outputId": "b0abe104-9534-4e83-dc86-5742ea2ac8aa"
      },
      "source": [
        "s[:3] #first characters 0,1,2"
      ],
      "execution_count": null,
      "outputs": [
        {
          "output_type": "execute_result",
          "data": {
            "text/plain": [
              "'pyt'"
            ]
          },
          "metadata": {
            "tags": []
          },
          "execution_count": 81
        }
      ]
    },
    {
      "cell_type": "code",
      "metadata": {
        "id": "DeO_dY7BDcKj",
        "colab_type": "code",
        "colab": {},
        "outputId": "0758df16-1e17-4160-eb1b-aebab095028b"
      },
      "source": [
        "s = '12\\\\34'\n",
        "print(s)"
      ],
      "execution_count": null,
      "outputs": [
        {
          "output_type": "stream",
          "text": [
            "12\\34\n"
          ],
          "name": "stdout"
        }
      ]
    },
    {
      "cell_type": "code",
      "metadata": {
        "id": "6mA55jFQDcKx",
        "colab_type": "code",
        "colab": {}
      },
      "source": [
        ""
      ],
      "execution_count": null,
      "outputs": []
    },
    {
      "cell_type": "code",
      "metadata": {
        "id": "dbMCDatwDcK9",
        "colab_type": "code",
        "colab": {},
        "outputId": "c3df4e45-6992-4bf7-e828-db44702c8334"
      },
      "source": [
        "s = r'this\\has\\no\\special\\characters' # r stands for raw\n",
        "s"
      ],
      "execution_count": null,
      "outputs": [
        {
          "output_type": "execute_result",
          "data": {
            "text/plain": [
              "'this\\\\has\\\\no\\\\special\\\\characters'"
            ]
          },
          "metadata": {
            "tags": []
          },
          "execution_count": 83
        }
      ]
    },
    {
      "cell_type": "code",
      "metadata": {
        "id": "Shftz663DcLK",
        "colab_type": "code",
        "colab": {},
        "outputId": "493c5933-dd68-4546-ef04-a0754817e3a2"
      },
      "source": [
        "#concatenating strings\n",
        "a = 'this is the first half '\n",
        "b = 'and this is the second half'\n",
        "a+b"
      ],
      "execution_count": null,
      "outputs": [
        {
          "output_type": "execute_result",
          "data": {
            "text/plain": [
              "'this is the first half and this is the second half'"
            ]
          },
          "metadata": {
            "tags": []
          },
          "execution_count": 85
        }
      ]
    },
    {
      "cell_type": "code",
      "metadata": {
        "id": "hH427u7JDcLR",
        "colab_type": "code",
        "colab": {}
      },
      "source": [
        "template = '{0:.2f} {1:s} are worth US${2:d}'\n"
      ],
      "execution_count": null,
      "outputs": []
    },
    {
      "cell_type": "code",
      "metadata": {
        "id": "KiX1fF_0DcLc",
        "colab_type": "code",
        "colab": {},
        "outputId": "d9943387-4cc9-4568-f77d-fa026cad79fb"
      },
      "source": [
        "template.format(4.5560, 'Argentine Pesos',1)"
      ],
      "execution_count": null,
      "outputs": [
        {
          "output_type": "execute_result",
          "data": {
            "text/plain": [
              "'4.56 Argentine Pesos are worth US$1'"
            ]
          },
          "metadata": {
            "tags": []
          },
          "execution_count": 94
        }
      ]
    },
    {
      "cell_type": "code",
      "metadata": {
        "id": "VffFpIu7DcLm",
        "colab_type": "code",
        "colab": {}
      },
      "source": [
        "# {0:.2f} format the 1st argument as floating point with 2 decimals 0-1st pos\n",
        "#{1:s} format as string are worth US$                 1-2nd pos\n",
        "#{2:d} format as an exact integer                     2-3rd pos"
      ],
      "execution_count": null,
      "outputs": []
    },
    {
      "cell_type": "code",
      "metadata": {
        "id": "DwFiVk2aDcLw",
        "colab_type": "code",
        "colab": {},
        "outputId": "78d4a888-f552-4b66-b058-e626e694b2c4"
      },
      "source": [
        "from datetime import datetime, date, time #dont understand\n",
        "dt =datetime(2011, 10,29,20,30,21)\n",
        "dt.day"
      ],
      "execution_count": null,
      "outputs": [
        {
          "output_type": "execute_result",
          "data": {
            "text/plain": [
              "29"
            ]
          },
          "metadata": {
            "tags": []
          },
          "execution_count": 95
        }
      ]
    },
    {
      "cell_type": "code",
      "metadata": {
        "id": "BIY_JNyxDcL8",
        "colab_type": "code",
        "colab": {},
        "outputId": "fd52848e-24a3-479e-f3e0-382d2f197c86"
      },
      "source": [
        "dt.minute"
      ],
      "execution_count": null,
      "outputs": [
        {
          "output_type": "execute_result",
          "data": {
            "text/plain": [
              "30"
            ]
          },
          "metadata": {
            "tags": []
          },
          "execution_count": 96
        }
      ]
    },
    {
      "cell_type": "code",
      "metadata": {
        "id": "CsTeosQ0DcMF",
        "colab_type": "code",
        "colab": {},
        "outputId": "0bff91c1-f8bf-4507-b4ef-4291c2b8869c"
      },
      "source": [
        "dt.date() #not clear"
      ],
      "execution_count": null,
      "outputs": [
        {
          "output_type": "execute_result",
          "data": {
            "text/plain": [
              "datetime.date(2011, 10, 29)"
            ]
          },
          "metadata": {
            "tags": []
          },
          "execution_count": 97
        }
      ]
    },
    {
      "cell_type": "code",
      "metadata": {
        "id": "Q9S3pf7TDcMN",
        "colab_type": "code",
        "colab": {},
        "outputId": "78853e41-9e6e-416f-fefb-5fda8ad62c96"
      },
      "source": [
        "if x<0:\n",
        "    print(\"It's negative\")\n",
        "elif x == 0:\n",
        "    print ('Equal to zero')\n",
        "elif 0<x<5:\n",
        "    print('Postive but smaller than 5')\n",
        "else:\n",
        "    print ('Positive and larger than or equal to 5')\n"
      ],
      "execution_count": null,
      "outputs": [
        {
          "output_type": "error",
          "ename": "NameError",
          "evalue": "name 'x' is not defined",
          "traceback": [
            "\u001b[1;31m---------------------------------------------------------------------------\u001b[0m",
            "\u001b[1;31mNameError\u001b[0m                                 Traceback (most recent call last)",
            "\u001b[1;32m<ipython-input-101-70956253e365>\u001b[0m in \u001b[0;36m<module>\u001b[1;34m()\u001b[0m\n\u001b[1;32m----> 1\u001b[1;33m \u001b[1;32mif\u001b[0m \u001b[0mx\u001b[0m\u001b[1;33m<\u001b[0m\u001b[1;36m0\u001b[0m\u001b[1;33m:\u001b[0m\u001b[1;33m\u001b[0m\u001b[0m\n\u001b[0m\u001b[0;32m      2\u001b[0m     \u001b[0mprint\u001b[0m\u001b[1;33m(\u001b[0m\u001b[1;34m\"It's negative\"\u001b[0m\u001b[1;33m)\u001b[0m\u001b[1;33m\u001b[0m\u001b[0m\n\u001b[0;32m      3\u001b[0m \u001b[1;32melif\u001b[0m \u001b[0mx\u001b[0m \u001b[1;33m==\u001b[0m \u001b[1;36m0\u001b[0m\u001b[1;33m:\u001b[0m\u001b[1;33m\u001b[0m\u001b[0m\n\u001b[0;32m      4\u001b[0m     \u001b[0mprint\u001b[0m \u001b[1;33m(\u001b[0m\u001b[1;34m'Equal to zero'\u001b[0m\u001b[1;33m)\u001b[0m\u001b[1;33m\u001b[0m\u001b[0m\n\u001b[0;32m      5\u001b[0m \u001b[1;32melif\u001b[0m \u001b[1;36m0\u001b[0m\u001b[1;33m<\u001b[0m\u001b[0mx\u001b[0m\u001b[1;33m<\u001b[0m\u001b[1;36m5\u001b[0m\u001b[1;33m:\u001b[0m\u001b[1;33m\u001b[0m\u001b[0m\n",
            "\u001b[1;31mNameError\u001b[0m: name 'x' is not defined"
          ]
        }
      ]
    },
    {
      "cell_type": "code",
      "metadata": {
        "id": "ntCeo3QbDcMU",
        "colab_type": "code",
        "colab": {},
        "outputId": "726b6e2d-e712-4ca5-b5f3-3df34d9a2ee5"
      },
      "source": [
        "a = 5;b =7\n",
        "c=8;d =4\n",
        "if a<b or c>d:\n",
        "    print('Made it')"
      ],
      "execution_count": null,
      "outputs": [
        {
          "output_type": "stream",
          "text": [
            "Made it\n"
          ],
          "name": "stdout"
        }
      ]
    },
    {
      "cell_type": "code",
      "metadata": {
        "id": "sUGQHsdQDcMd",
        "colab_type": "code",
        "colab": {}
      },
      "source": [
        "sequence = [1, 2, 0, 4, 6, 5, 2, 1]\n",
        "total_until_5 = 0\n",
        "for value in sequence:\n",
        " if value == 5:\n",
        "     break\n",
        " total_until_5 += value"
      ],
      "execution_count": null,
      "outputs": []
    },
    {
      "cell_type": "code",
      "metadata": {
        "id": "1IAHhoLrDcMi",
        "colab_type": "code",
        "colab": {},
        "outputId": "5f333839-f1dd-4850-82ef-4ea54933a1da"
      },
      "source": [
        " :  for i in range(4):\n",
        " :      for j in range(4):\n",
        " :         if j > i:\n",
        " :             break\n",
        " :       print((i, j))\n",
        "(0,0)\n",
        "(1,0)\n",
        "(1,1)\n",
        "(2,0)\n",
        "(2,1)\n",
        "(2,2)\n",
        "(3,0)\n",
        "(3,1)\n",
        "(3,2)\n",
        "(3,3)"
      ],
      "execution_count": null,
      "outputs": [
        {
          "output_type": "error",
          "ename": "SyntaxError",
          "evalue": "invalid syntax (<ipython-input-112-7cd6670c2ecd>, line 1)",
          "traceback": [
            "\u001b[1;36m  File \u001b[1;32m\"<ipython-input-112-7cd6670c2ecd>\"\u001b[1;36m, line \u001b[1;32m1\u001b[0m\n\u001b[1;33m    :  for i in range(4):\u001b[0m\n\u001b[1;37m    ^\u001b[0m\n\u001b[1;31mSyntaxError\u001b[0m\u001b[1;31m:\u001b[0m invalid syntax\n"
          ]
        }
      ]
    },
    {
      "cell_type": "code",
      "metadata": {
        "id": "649TxwsMDcMp",
        "colab_type": "code",
        "colab": {}
      },
      "source": [
        "x = 256\n",
        "total = 0\n",
        "while x > 0:\n",
        "    if total > 500:\n",
        "        break\n",
        "    total += x\n",
        "    x = x // 2"
      ],
      "execution_count": null,
      "outputs": []
    },
    {
      "cell_type": "code",
      "metadata": {
        "id": "SqM5sX4_DcM0",
        "colab_type": "code",
        "colab": {},
        "outputId": "862e117f-9b22-4c1b-c3bb-0f6a0d02c453"
      },
      "source": [
        "a = 5;b =7\n",
        "c=8;d =4\n",
        "if a<b or c>d:\n",
        "    print('Made it')"
      ],
      "execution_count": null,
      "outputs": [
        {
          "output_type": "stream",
          "text": [
            "Made it\n"
          ],
          "name": "stdout"
        }
      ]
    },
    {
      "cell_type": "code",
      "metadata": {
        "id": "_ra_ahRXDcNF",
        "colab_type": "code",
        "colab": {},
        "outputId": "96aea61e-e09d-4201-ae35-0d66bd27cbe6"
      },
      "source": [
        "x=5\n",
        "y=7\n",
        "x+y"
      ],
      "execution_count": null,
      "outputs": [
        {
          "output_type": "execute_result",
          "data": {
            "text/plain": [
              "12"
            ]
          },
          "metadata": {
            "tags": []
          },
          "execution_count": 4
        }
      ]
    },
    {
      "cell_type": "code",
      "metadata": {
        "id": "yYVeh2vpDcNO",
        "colab_type": "code",
        "colab": {}
      },
      "source": [
        ""
      ],
      "execution_count": null,
      "outputs": []
    }
  ]
}