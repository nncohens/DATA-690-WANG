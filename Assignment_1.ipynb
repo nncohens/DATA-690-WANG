{
  "nbformat": 4,
  "nbformat_minor": 0,
  "metadata": {
    "kernelspec": {
      "display_name": "Python 3",
      "language": "python",
      "name": "python3"
    },
    "language_info": {
      "codemirror_mode": {
        "name": "ipython",
        "version": 3
      },
      "file_extension": ".py",
      "mimetype": "text/x-python",
      "name": "python",
      "nbconvert_exporter": "python",
      "pygments_lexer": "ipython3",
      "version": "3.6.5"
    },
    "colab": {
      "name": "Assignment 1.ipynb",
      "provenance": [],
      "include_colab_link": true
    }
  },
  "cells": [
    {
      "cell_type": "markdown",
      "metadata": {
        "id": "view-in-github",
        "colab_type": "text"
      },
      "source": [
        "<a href=\"https://colab.research.google.com/github/nncohens/DATA-690-WANG/blob/master/Assignment_1.ipynb\" target=\"_parent\"><img src=\"https://colab.research.google.com/assets/colab-badge.svg\" alt=\"Open In Colab\"/></a>"
      ]
    },
    {
      "cell_type": "markdown",
      "metadata": {
        "id": "l5wNc4X5JcrX",
        "colab_type": "text"
      },
      "source": [
        "# Course-Notes.md\n",
        "\n",
        "1.Introspection\n",
        "Using a question mark (?) before or after a variable will display some general infor‐\n",
        "mation about the object:\n",
        "In [8]: b = [1, 2, 3]\n",
        "In [9]: b?\n",
        "Type: list\n",
        "\n",
        "\n",
        "2.A colon denotes the start of an indented code block after which all of the code must\n",
        "be indented by the same amount until the end of the block\n",
        "\n",
        "3.  a.append(4)     a= variable   4= whats being added   a =[1,2,3]  if I want to add four,\n",
        "\n",
        "\n",
        "In [74]: template = '{0:.2f} {1:s} are worth US${2:d}'\n",
        "In this string,\n",
        "• {0:.2f} means to format the first argument as a floating-point number with two\n",
        "decimal places.\n",
        "• {1:s} means to format the second argument as a string.\n",
        "• {2:d} means to format the third argument as an exact integer\n",
        "\n",
        "if x < 0:\n",
        " print('It's negative')\n",
        "elif x == 0:\n",
        " print('Equal to zero')\n",
        "elif 0 < x < 5:\n",
        " print('Positive but smaller than 5')\n",
        "else:\n",
        " print('Positive and larger than or equal to 5')\n",
        "\n"
      ]
    },
    {
      "cell_type": "code",
      "metadata": {
        "id": "R7mVisKUJcrg",
        "colab_type": "code",
        "colab": {},
        "outputId": "88b79b4c-b32c-4122-b28c-99ccecb567e1"
      },
      "source": [
        "print (\"Hello World\")"
      ],
      "execution_count": null,
      "outputs": [
        {
          "output_type": "stream",
          "text": [
            "Hello World\n"
          ],
          "name": "stdout"
        }
      ]
    },
    {
      "cell_type": "code",
      "metadata": {
        "id": "7SGQ3_2gJcrw",
        "colab_type": "code",
        "colab": {},
        "outputId": "65253481-0c73-46f4-c120-e84ecdd44c8f"
      },
      "source": [
        "%run hello_world.py"
      ],
      "execution_count": null,
      "outputs": [
        {
          "output_type": "stream",
          "text": [
            "ERROR:root:File `'hello_world.py'` not found.\n"
          ],
          "name": "stderr"
        }
      ]
    },
    {
      "cell_type": "code",
      "metadata": {
        "id": "rygWNBt1Jcr_",
        "colab_type": "code",
        "colab": {}
      },
      "source": [
        "import numpy as np"
      ],
      "execution_count": null,
      "outputs": []
    },
    {
      "cell_type": "code",
      "metadata": {
        "id": "vRKYDNlIJcsN",
        "colab_type": "code",
        "colab": {}
      },
      "source": [
        "data = {i : np.random.randn() for i in range(7)}"
      ],
      "execution_count": null,
      "outputs": []
    },
    {
      "cell_type": "code",
      "metadata": {
        "id": "ZM2aGo-mJcsW",
        "colab_type": "code",
        "colab": {},
        "outputId": "2bd79f19-3e17-4f6a-e246-78366b47c8b3"
      },
      "source": [
        "In [7]: data\n"
      ],
      "execution_count": null,
      "outputs": [
        {
          "output_type": "execute_result",
          "data": {
            "text/plain": [
              "{0: 0.4734770844294632,\n",
              " 1: -0.7848488949279743,\n",
              " 2: -0.7731531315682865,\n",
              " 3: 0.40019862921480226,\n",
              " 4: 1.4069543229373458,\n",
              " 5: -1.5135215087641618,\n",
              " 6: 0.826651047375698}"
            ]
          },
          "metadata": {
            "tags": []
          },
          "execution_count": 10
        }
      ]
    },
    {
      "cell_type": "code",
      "metadata": {
        "id": "L_bt_C1bJcsk",
        "colab_type": "code",
        "colab": {},
        "outputId": "378f5f0e-5ff0-460c-9bfc-e0213310f9b8"
      },
      "source": [
        "from numpy.random import randn\n",
        "data = {i : randn() for i in range(7)}\n",
        "print(data)"
      ],
      "execution_count": null,
      "outputs": [
        {
          "output_type": "stream",
          "text": [
            "{0: 1.310673590479894, 1: -1.1307076950091568, 2: -0.8214606908809048, 3: 0.9648773689792528, 4: -1.4768831498199335, 5: 1.3533865004303844, 6: 0.5569721090432742}\n"
          ],
          "name": "stdout"
        }
      ]
    },
    {
      "cell_type": "code",
      "metadata": {
        "id": "oNP4AWDBJcs1",
        "colab_type": "code",
        "colab": {},
        "outputId": "91ecba14-42a7-4792-dc0b-d8a815f35e38"
      },
      "source": [
        "an_apple = 27\n",
        "an_example = 42\n",
        "an_apple and an_example any"
      ],
      "execution_count": null,
      "outputs": [
        {
          "output_type": "error",
          "ename": "SyntaxError",
          "evalue": "invalid syntax (<ipython-input-14-8ff580cd4c3c>, line 3)",
          "traceback": [
            "\u001b[1;36m  File \u001b[1;32m\"<ipython-input-14-8ff580cd4c3c>\"\u001b[1;36m, line \u001b[1;32m3\u001b[0m\n\u001b[1;33m    an_apple and an_example any\u001b[0m\n\u001b[1;37m                              ^\u001b[0m\n\u001b[1;31mSyntaxError\u001b[0m\u001b[1;31m:\u001b[0m invalid syntax\n"
          ]
        }
      ]
    },
    {
      "cell_type": "code",
      "metadata": {
        "id": "LN4fl7vIJctE",
        "colab_type": "code",
        "colab": {},
        "outputId": "d60476c2-f4d7-46de-b42c-4ae8c5d1e9b6"
      },
      "source": [
        "b = [1,2,3]\n",
        "b.append \n",
        "b.count \n",
        "b.insert \n",
        "b.reverse \n",
        "b.clear \n",
        "b.extend \n",
        "b.pop \n",
        "b.sort \n",
        "b.copy \n",
        "b.index \n",
        "b.remove"
      ],
      "execution_count": null,
      "outputs": [
        {
          "output_type": "execute_result",
          "data": {
            "text/plain": [
              "<function list.append>"
            ]
          },
          "metadata": {
            "tags": []
          },
          "execution_count": 17
        }
      ]
    },
    {
      "cell_type": "code",
      "metadata": {
        "id": "6gHxk4OQJctT",
        "colab_type": "code",
        "colab": {}
      },
      "source": [
        "import datetime"
      ],
      "execution_count": null,
      "outputs": []
    },
    {
      "cell_type": "code",
      "metadata": {
        "id": "irB3j3YTJcti",
        "colab_type": "code",
        "colab": {},
        "outputId": "636c1d99-5b46-4ba9-e0a7-23b94f742ea0"
      },
      "source": [
        "datetime.date"
      ],
      "execution_count": null,
      "outputs": [
        {
          "output_type": "execute_result",
          "data": {
            "text/plain": [
              "datetime.date"
            ]
          },
          "metadata": {
            "tags": []
          },
          "execution_count": 19
        }
      ]
    },
    {
      "cell_type": "code",
      "metadata": {
        "id": "MfC9bKUPJcts",
        "colab_type": "code",
        "colab": {},
        "outputId": "aee18034-8800-4cfe-8fd2-63310c826c2b"
      },
      "source": [
        ""
      ],
      "execution_count": null,
      "outputs": [
        {
          "output_type": "error",
          "ename": "SyntaxError",
          "evalue": "invalid syntax (<ipython-input-23-fd3473e66c15>, line 1)",
          "traceback": [
            "\u001b[1;36m  File \u001b[1;32m\"<ipython-input-23-fd3473e66c15>\"\u001b[1;36m, line \u001b[1;32m1\u001b[0m\n\u001b[1;33m    datasets/movielens/\u001b[0m\n\u001b[1;37m                       ^\u001b[0m\n\u001b[1;31mSyntaxError\u001b[0m\u001b[1;31m:\u001b[0m invalid syntax\n"
          ]
        }
      ]
    },
    {
      "cell_type": "code",
      "metadata": {
        "id": "gyl4dcGAJct2",
        "colab_type": "code",
        "colab": {},
        "outputId": "68a605ba-2e05-4619-b7a3-398662115c96"
      },
      "source": [
        "datasets/movielens/\n",
        "datasets/movielens/movies.dat\n",
        "datasets/movielens/README\n",
        "datasets/movielens/ratings.dat\n",
        "datasets/movielens/users.dat"
      ],
      "execution_count": null,
      "outputs": [
        {
          "output_type": "error",
          "ename": "SyntaxError",
          "evalue": "invalid syntax (<ipython-input-25-fd3473e66c15>, line 1)",
          "traceback": [
            "\u001b[1;36m  File \u001b[1;32m\"<ipython-input-25-fd3473e66c15>\"\u001b[1;36m, line \u001b[1;32m1\u001b[0m\n\u001b[1;33m    datasets/movielens/\u001b[0m\n\u001b[1;37m                       ^\u001b[0m\n\u001b[1;31mSyntaxError\u001b[0m\u001b[1;31m:\u001b[0m invalid syntax\n"
          ]
        }
      ]
    },
    {
      "cell_type": "code",
      "metadata": {
        "id": "sg0IJq4qJcuB",
        "colab_type": "code",
        "colab": {},
        "outputId": "7879e1ea-1d7b-4de9-d17c-383bf437faca"
      },
      "source": [
        "path = 'datasets/movielens/"
      ],
      "execution_count": null,
      "outputs": [
        {
          "output_type": "error",
          "ename": "SyntaxError",
          "evalue": "EOL while scanning string literal (<ipython-input-26-15f78fee1602>, line 1)",
          "traceback": [
            "\u001b[1;36m  File \u001b[1;32m\"<ipython-input-26-15f78fee1602>\"\u001b[1;36m, line \u001b[1;32m1\u001b[0m\n\u001b[1;33m    path = 'datasets/movielens/\u001b[0m\n\u001b[1;37m                               ^\u001b[0m\n\u001b[1;31mSyntaxError\u001b[0m\u001b[1;31m:\u001b[0m EOL while scanning string literal\n"
          ]
        }
      ]
    },
    {
      "cell_type": "code",
      "metadata": {
        "id": "iWyZpuLsJcuJ",
        "colab_type": "code",
        "colab": {}
      },
      "source": [
        "b = [1,2,3]"
      ],
      "execution_count": null,
      "outputs": []
    },
    {
      "cell_type": "code",
      "metadata": {
        "id": "bB9UUx0oJcuV",
        "colab_type": "code",
        "colab": {}
      },
      "source": [
        "b?"
      ],
      "execution_count": null,
      "outputs": []
    },
    {
      "cell_type": "code",
      "metadata": {
        "id": "0LvA-4qSJcud",
        "colab_type": "code",
        "colab": {}
      },
      "source": [
        "print?"
      ],
      "execution_count": null,
      "outputs": []
    },
    {
      "cell_type": "code",
      "metadata": {
        "id": "e2UdrGJaJcuo",
        "colab_type": "code",
        "colab": {}
      },
      "source": [
        "b?"
      ],
      "execution_count": null,
      "outputs": []
    },
    {
      "cell_type": "code",
      "metadata": {
        "id": "zYZQQNDHJcu0",
        "colab_type": "code",
        "colab": {}
      },
      "source": [
        "#def add_numbers(a,b):\n",
        "    return a+b"
      ],
      "execution_count": null,
      "outputs": []
    },
    {
      "cell_type": "code",
      "metadata": {
        "id": "8NvBRLbMJcvO",
        "colab_type": "code",
        "colab": {},
        "outputId": "e732ab74-7381-40af-f056-f48e6eaef108"
      },
      "source": [
        "add_numbers?\n",
        "Signature: add_numbers(a,b)\n",
        "Docstring:\n",
        "Add two numbers together"
      ],
      "execution_count": null,
      "outputs": [
        {
          "output_type": "error",
          "ename": "SyntaxError",
          "evalue": "invalid syntax (<ipython-input-36-1ab40ed2e826>, line 3)",
          "traceback": [
            "\u001b[1;36m  File \u001b[1;32m\"<ipython-input-36-1ab40ed2e826>\"\u001b[1;36m, line \u001b[1;32m3\u001b[0m\n\u001b[1;33m    Docstring:\u001b[0m\n\u001b[1;37m              ^\u001b[0m\n\u001b[1;31mSyntaxError\u001b[0m\u001b[1;31m:\u001b[0m invalid syntax\n"
          ]
        }
      ]
    },
    {
      "cell_type": "code",
      "metadata": {
        "id": "ziNYTqvQJcvZ",
        "colab_type": "code",
        "colab": {},
        "outputId": "85c06cdb-7ed8-478c-a171-4324d0250aff"
      },
      "source": [
        "np.*load*? #Something here is incorrect. I am not sure what it is\n",
        "np._loader_\n",
        "np.load\n",
        "np.loads"
      ],
      "execution_count": null,
      "outputs": [
        {
          "output_type": "error",
          "ename": "AttributeError",
          "evalue": "module 'numpy' has no attribute '_loader_'",
          "traceback": [
            "\u001b[1;31m---------------------------------------------------------------------------\u001b[0m",
            "\u001b[1;31mAttributeError\u001b[0m                            Traceback (most recent call last)",
            "\u001b[1;32m<ipython-input-42-a1b67a0905c4>\u001b[0m in \u001b[0;36m<module>\u001b[1;34m()\u001b[0m\n\u001b[0;32m      1\u001b[0m \u001b[0mget_ipython\u001b[0m\u001b[1;33m(\u001b[0m\u001b[1;33m)\u001b[0m\u001b[1;33m.\u001b[0m\u001b[0mrun_line_magic\u001b[0m\u001b[1;33m(\u001b[0m\u001b[1;34m'psearch'\u001b[0m\u001b[1;33m,\u001b[0m \u001b[1;34m'np.*load*'\u001b[0m\u001b[1;33m)\u001b[0m\u001b[1;33m\u001b[0m\u001b[0m\n\u001b[1;32m----> 2\u001b[1;33m \u001b[0mnp\u001b[0m\u001b[1;33m.\u001b[0m\u001b[0m_loader_\u001b[0m\u001b[1;33m\u001b[0m\u001b[0m\n\u001b[0m\u001b[0;32m      3\u001b[0m \u001b[0mnp\u001b[0m\u001b[1;33m.\u001b[0m\u001b[0mload\u001b[0m\u001b[1;33m\u001b[0m\u001b[0m\n\u001b[0;32m      4\u001b[0m \u001b[0mnp\u001b[0m\u001b[1;33m.\u001b[0m\u001b[0mloads\u001b[0m\u001b[1;33m\u001b[0m\u001b[0m\n",
            "\u001b[1;31mAttributeError\u001b[0m: module 'numpy' has no attribute '_loader_'"
          ]
        }
      ]
    },
    {
      "cell_type": "code",
      "metadata": {
        "id": "G4r2jYZmJcvk",
        "colab_type": "code",
        "colab": {}
      },
      "source": [
        "def f(x,y,z):  \n",
        "    return (x+y) /z\n",
        "a = 5\n",
        "b = 6\n",
        "c = 7.5\n",
        "\n",
        "result = f(a,b,c)"
      ],
      "execution_count": null,
      "outputs": []
    },
    {
      "cell_type": "code",
      "metadata": {
        "id": "LDTX7jX-Jcvt",
        "colab_type": "code",
        "colab": {},
        "outputId": "3ef9556c-71e0-40ce-cbf2-1ee4be967931"
      },
      "source": [
        "%run ipython_script_test.py"
      ],
      "execution_count": null,
      "outputs": [
        {
          "output_type": "stream",
          "text": [
            "ERROR:root:File `'ipython_script_test.py'` not found.\n"
          ],
          "name": "stderr"
        }
      ]
    },
    {
      "cell_type": "code",
      "metadata": {
        "id": "rz5BrAEJJcv_",
        "colab_type": "code",
        "colab": {},
        "outputId": "ff07be36-c333-43c7-c45d-6a7fb168a2e1"
      },
      "source": [
        "a = np.random.randn(100,100)\n",
        "%timeit np.dot(a,a)\n",
        "1000 loops, best of 3: 20.9 "
      ],
      "execution_count": null,
      "outputs": [
        {
          "output_type": "error",
          "ename": "SyntaxError",
          "evalue": "invalid syntax (<ipython-input-44-e9eccd76fd7c>, line 3)",
          "traceback": [
            "\u001b[1;36m  File \u001b[1;32m\"<ipython-input-44-e9eccd76fd7c>\"\u001b[1;36m, line \u001b[1;32m3\u001b[0m\n\u001b[1;33m    1000 loops, best of 3: 20.9\u001b[0m\n\u001b[1;37m             ^\u001b[0m\n\u001b[1;31mSyntaxError\u001b[0m\u001b[1;31m:\u001b[0m invalid syntax\n"
          ]
        }
      ]
    },
    {
      "cell_type": "code",
      "metadata": {
        "id": "9TqBkmk_JcwK",
        "colab_type": "code",
        "colab": {},
        "outputId": "cc973986-5ed2-406e-93c5-f8fde6faeba6"
      },
      "source": [
        "%matploblib inline"
      ],
      "execution_count": null,
      "outputs": [
        {
          "output_type": "stream",
          "text": [
            "UsageError: Line magic function `%matploblib` not found.\n"
          ],
          "name": "stderr"
        }
      ]
    },
    {
      "cell_type": "code",
      "metadata": {
        "id": "pqGZBoUTJcwV",
        "colab_type": "code",
        "colab": {},
        "outputId": "c74e3c0b-0028-4281-cc71-fa46a7ad753d"
      },
      "source": [
        "import matplotlib.pyplot as plt\n",
        "plt.plot(np.random.randn(50).cumsum())"
      ],
      "execution_count": null,
      "outputs": [
        {
          "output_type": "execute_result",
          "data": {
            "text/plain": [
              "[<matplotlib.lines.Line2D at 0x20deff44fd0>]"
            ]
          },
          "metadata": {
            "tags": []
          },
          "execution_count": 46
        }
      ]
    },
    {
      "cell_type": "code",
      "metadata": {
        "id": "pHhbSdlwJcwh",
        "colab_type": "code",
        "colab": {},
        "outputId": "458f8755-977c-4cc5-b8c8-9604b2f5804c"
      },
      "source": [
        "def append_element(some_list, element):\n",
        "    some_list.append(element)\n",
        "\n",
        "append_"
      ],
      "execution_count": null,
      "outputs": [
        {
          "output_type": "error",
          "ename": "NameError",
          "evalue": "name 'append_' is not defined",
          "traceback": [
            "\u001b[1;31m---------------------------------------------------------------------------\u001b[0m",
            "\u001b[1;31mNameError\u001b[0m                                 Traceback (most recent call last)",
            "\u001b[1;32m<ipython-input-47-281a6172733e>\u001b[0m in \u001b[0;36m<module>\u001b[1;34m()\u001b[0m\n\u001b[0;32m      2\u001b[0m     \u001b[0msome_list\u001b[0m\u001b[1;33m.\u001b[0m\u001b[0mappend\u001b[0m\u001b[1;33m(\u001b[0m\u001b[0melement\u001b[0m\u001b[1;33m)\u001b[0m\u001b[1;33m\u001b[0m\u001b[0m\n\u001b[0;32m      3\u001b[0m \u001b[1;33m\u001b[0m\u001b[0m\n\u001b[1;32m----> 4\u001b[1;33m \u001b[0mappend_\u001b[0m\u001b[1;33m\u001b[0m\u001b[0m\n\u001b[0m",
            "\u001b[1;31mNameError\u001b[0m: name 'append_' is not defined"
          ]
        }
      ]
    },
    {
      "cell_type": "code",
      "metadata": {
        "id": "FXf_TfJNJcwv",
        "colab_type": "code",
        "colab": {},
        "outputId": "24b00bb5-bcd7-4b6d-c46d-7bef442e0531"
      },
      "source": [
        "def append_element(some_list, element):\n",
        "    some_list.append(element"
      ],
      "execution_count": null,
      "outputs": [
        {
          "output_type": "error",
          "ename": "SyntaxError",
          "evalue": "unexpected EOF while parsing (<ipython-input-48-33576f4b97b9>, line 2)",
          "traceback": [
            "\u001b[1;36m  File \u001b[1;32m\"<ipython-input-48-33576f4b97b9>\"\u001b[1;36m, line \u001b[1;32m2\u001b[0m\n\u001b[1;33m    some_list.append(element\u001b[0m\n\u001b[1;37m                            ^\u001b[0m\n\u001b[1;31mSyntaxError\u001b[0m\u001b[1;31m:\u001b[0m unexpected EOF while parsing\n"
          ]
        }
      ]
    },
    {
      "cell_type": "code",
      "metadata": {
        "id": "0r8HA-RKJcxA",
        "colab_type": "code",
        "colab": {}
      },
      "source": [
        "def append_element(some_list, element):\n",
        "    some_list.append(element)"
      ],
      "execution_count": null,
      "outputs": []
    },
    {
      "cell_type": "code",
      "metadata": {
        "id": "T-80sARBJcxG",
        "colab_type": "code",
        "colab": {}
      },
      "source": [
        "data = [1,2,3]\n",
        "append_element(data,4)"
      ],
      "execution_count": null,
      "outputs": []
    },
    {
      "cell_type": "code",
      "metadata": {
        "id": "GnevGClqJcxO",
        "colab_type": "code",
        "colab": {},
        "outputId": "0bdd7ee6-a5c7-4fbc-f810-fecca13d2e63"
      },
      "source": [
        "data"
      ],
      "execution_count": null,
      "outputs": [
        {
          "output_type": "execute_result",
          "data": {
            "text/plain": [
              "[1, 2, 3, 4]"
            ]
          },
          "metadata": {
            "tags": []
          },
          "execution_count": 51
        }
      ]
    },
    {
      "cell_type": "code",
      "metadata": {
        "id": "gMc_G0agJcxZ",
        "colab_type": "code",
        "colab": {},
        "outputId": "37d9dfb6-4aa1-42de-ecd4-698b2198c6af"
      },
      "source": [
        "a = 5\n",
        "type(a)"
      ],
      "execution_count": null,
      "outputs": [
        {
          "output_type": "execute_result",
          "data": {
            "text/plain": [
              "int"
            ]
          },
          "metadata": {
            "tags": []
          },
          "execution_count": 52
        }
      ]
    },
    {
      "cell_type": "code",
      "metadata": {
        "id": "5NZJ7K2cJcxj",
        "colab_type": "code",
        "colab": {},
        "outputId": "f1e20fd7-b2d9-4f70-d7c3-3f0b2b32fa06"
      },
      "source": [
        "a = \"foo\"\n",
        "type(a)"
      ],
      "execution_count": null,
      "outputs": [
        {
          "output_type": "execute_result",
          "data": {
            "text/plain": [
              "str"
            ]
          },
          "metadata": {
            "tags": []
          },
          "execution_count": 1
        }
      ]
    },
    {
      "cell_type": "code",
      "metadata": {
        "id": "aP5NTyMpJcxu",
        "colab_type": "code",
        "colab": {},
        "outputId": "e418fdf7-70cb-40e9-94d6-ed7a908b7d5b"
      },
      "source": [
        "a = 4.5\n",
        "b=2\n",
        "print('a is {0}, b is {1}'.format(type(a), type(b)))"
      ],
      "execution_count": null,
      "outputs": [
        {
          "output_type": "stream",
          "text": [
            "a is <class 'float'>, b is <class 'int'>\n"
          ],
          "name": "stdout"
        }
      ]
    },
    {
      "cell_type": "code",
      "metadata": {
        "id": "BxZ43GIFJcx4",
        "colab_type": "code",
        "colab": {},
        "outputId": "521501a0-3491-4c9d-e10a-8fac163bab96"
      },
      "source": [
        "a/b"
      ],
      "execution_count": null,
      "outputs": [
        {
          "output_type": "execute_result",
          "data": {
            "text/plain": [
              "2.25"
            ]
          },
          "metadata": {
            "tags": []
          },
          "execution_count": 55
        }
      ]
    },
    {
      "cell_type": "code",
      "metadata": {
        "id": "srxydXrLJcyD",
        "colab_type": "code",
        "colab": {},
        "outputId": "971ed1cb-d163-4391-b22c-b265c2d6b9fc"
      },
      "source": [
        "a = 5\n",
        "isinstance(a, int)"
      ],
      "execution_count": null,
      "outputs": [
        {
          "output_type": "execute_result",
          "data": {
            "text/plain": [
              "True"
            ]
          },
          "metadata": {
            "tags": []
          },
          "execution_count": 56
        }
      ]
    },
    {
      "cell_type": "code",
      "metadata": {
        "id": "T60xN6jCJcyP",
        "colab_type": "code",
        "colab": {},
        "outputId": "ce199a4d-6207-48dd-d182-4a6919b1f985"
      },
      "source": [
        "a = 5;b=4.5\n",
        "isinstance(a, (int, float))\n",
        "isinstance(b, (int, float))"
      ],
      "execution_count": null,
      "outputs": [
        {
          "output_type": "execute_result",
          "data": {
            "text/plain": [
              "True"
            ]
          },
          "metadata": {
            "tags": []
          },
          "execution_count": 57
        }
      ]
    },
    {
      "cell_type": "code",
      "metadata": {
        "id": "QqYjSB_aJcyY",
        "colab_type": "code",
        "colab": {},
        "outputId": "53b5f3b4-5d5c-4629-f3d0-4ee780b45e1f"
      },
      "source": [
        "a = \"foo\"\n",
        "getattr(a, 'split')"
      ],
      "execution_count": null,
      "outputs": [
        {
          "output_type": "execute_result",
          "data": {
            "text/plain": [
              "<function str.split>"
            ]
          },
          "metadata": {
            "tags": []
          },
          "execution_count": 58
        }
      ]
    },
    {
      "cell_type": "code",
      "metadata": {
        "id": "AQkAF0irJcyk",
        "colab_type": "code",
        "colab": {},
        "outputId": "dd0cfe77-2fb9-4ecd-c0dc-dbeec9ae7f10"
      },
      "source": [
        "5-7"
      ],
      "execution_count": null,
      "outputs": [
        {
          "output_type": "execute_result",
          "data": {
            "text/plain": [
              "-2"
            ]
          },
          "metadata": {
            "tags": []
          },
          "execution_count": 59
        }
      ]
    },
    {
      "cell_type": "code",
      "metadata": {
        "id": "gzxJ1vUPJcyu",
        "colab_type": "code",
        "colab": {},
        "outputId": "b6b2485f-fd34-4109-b189-43df86bdad14"
      },
      "source": [
        "12+21.5"
      ],
      "execution_count": null,
      "outputs": [
        {
          "output_type": "execute_result",
          "data": {
            "text/plain": [
              "33.5"
            ]
          },
          "metadata": {
            "tags": []
          },
          "execution_count": 60
        }
      ]
    },
    {
      "cell_type": "code",
      "metadata": {
        "id": "yCJqMiFyJcy1",
        "colab_type": "code",
        "colab": {},
        "outputId": "c97219e0-23c5-4160-969f-23f9413757c3"
      },
      "source": [
        "5<= 2"
      ],
      "execution_count": null,
      "outputs": [
        {
          "output_type": "execute_result",
          "data": {
            "text/plain": [
              "False"
            ]
          },
          "metadata": {
            "tags": []
          },
          "execution_count": 61
        }
      ]
    },
    {
      "cell_type": "code",
      "metadata": {
        "id": "mewm6OeCJczB",
        "colab_type": "code",
        "colab": {},
        "outputId": "78f8482b-9188-42b4-c7e6-12dbb6d36e91"
      },
      "source": [
        "a = [1,2,3]\n",
        "b=a\n",
        "c=list(a)\n",
        "a is b"
      ],
      "execution_count": null,
      "outputs": [
        {
          "output_type": "execute_result",
          "data": {
            "text/plain": [
              "True"
            ]
          },
          "metadata": {
            "tags": []
          },
          "execution_count": 62
        }
      ]
    },
    {
      "cell_type": "code",
      "metadata": {
        "id": "vGm5wzbQJczW",
        "colab_type": "code",
        "colab": {},
        "outputId": "a535aa47-da7b-4df6-d130-7dde75f7ae79"
      },
      "source": [
        "a is not c"
      ],
      "execution_count": null,
      "outputs": [
        {
          "output_type": "execute_result",
          "data": {
            "text/plain": [
              "True"
            ]
          },
          "metadata": {
            "tags": []
          },
          "execution_count": 63
        }
      ]
    },
    {
      "cell_type": "code",
      "metadata": {
        "id": "JtIFpTR5Jczg",
        "colab_type": "code",
        "colab": {},
        "outputId": "d6ab75cb-2ed8-4e75-f28f-91b78bc9fa3c"
      },
      "source": [
        "a = None\n",
        "a is None"
      ],
      "execution_count": null,
      "outputs": [
        {
          "output_type": "execute_result",
          "data": {
            "text/plain": [
              "True"
            ]
          },
          "metadata": {
            "tags": []
          },
          "execution_count": 64
        }
      ]
    },
    {
      "cell_type": "code",
      "metadata": {
        "id": "FUChLu4WJczo",
        "colab_type": "code",
        "colab": {},
        "outputId": "98480427-5fed-46ac-9757-d2475a76b340"
      },
      "source": [
        "a_list = ['foo', 2, [4,5]]\n",
        "a_list[2] = (3,4) #will replace anything after 2 #mutable- can be modified\n",
        "a_list"
      ],
      "execution_count": null,
      "outputs": [
        {
          "output_type": "execute_result",
          "data": {
            "text/plain": [
              "['foo', 2, (3, 4)]"
            ]
          },
          "metadata": {
            "tags": []
          },
          "execution_count": 68
        }
      ]
    },
    {
      "cell_type": "code",
      "metadata": {
        "id": "ZfNp3XhkJcz2",
        "colab_type": "code",
        "colab": {},
        "outputId": "c601d29d-d96a-4f63-a947-60172652f894"
      },
      "source": [
        "ival = 17239871\n",
        "ival **6"
      ],
      "execution_count": null,
      "outputs": [
        {
          "output_type": "execute_result",
          "data": {
            "text/plain": [
              "26254519291092456596965462913230729701102721"
            ]
          },
          "metadata": {
            "tags": []
          },
          "execution_count": 69
        }
      ]
    },
    {
      "cell_type": "code",
      "metadata": {
        "id": "BGkmPS7NJc0D",
        "colab_type": "code",
        "colab": {}
      },
      "source": [
        "fval = 7.243\n",
        "fval2 = 6.78e-5"
      ],
      "execution_count": null,
      "outputs": []
    },
    {
      "cell_type": "code",
      "metadata": {
        "id": "ijMiCfHrJc0M",
        "colab_type": "code",
        "colab": {},
        "outputId": "68163d3e-4472-47cc-b523-01798e44fa45"
      },
      "source": [
        "3/2"
      ],
      "execution_count": null,
      "outputs": [
        {
          "output_type": "execute_result",
          "data": {
            "text/plain": [
              "1.5"
            ]
          },
          "metadata": {
            "tags": []
          },
          "execution_count": 71
        }
      ]
    },
    {
      "cell_type": "code",
      "metadata": {
        "id": "2p2PaXfEJc0Y",
        "colab_type": "code",
        "colab": {}
      },
      "source": [
        ""
      ],
      "execution_count": null,
      "outputs": []
    },
    {
      "cell_type": "code",
      "metadata": {
        "id": "1ucZy4mZJc0i",
        "colab_type": "code",
        "colab": {},
        "outputId": "f9f5acbf-8b41-44e0-b1c6-36f9980d038a"
      },
      "source": [
        "#//  drops the fraction (rounds down)\n",
        "3//2"
      ],
      "execution_count": null,
      "outputs": [
        {
          "output_type": "execute_result",
          "data": {
            "text/plain": [
              "1"
            ]
          },
          "metadata": {
            "tags": []
          },
          "execution_count": 72
        }
      ]
    },
    {
      "cell_type": "code",
      "metadata": {
        "id": "3gZTGKaBJc02",
        "colab_type": "code",
        "colab": {}
      },
      "source": [
        "a = \"one way of writing a string\"\n",
        "b='another way of writing a string'\n",
        "c= \"\"\"\n",
        "This is a longer string that \n",
        "spans multiple lines\n",
        "\"\"\""
      ],
      "execution_count": null,
      "outputs": []
    },
    {
      "cell_type": "code",
      "metadata": {
        "id": "WkkIgm7-Jc07",
        "colab_type": "code",
        "colab": {},
        "outputId": "f2ca13f2-a237-45b9-a9d6-727780d5a21c"
      },
      "source": [
        "c.count('\\n') #counts the lines of text"
      ],
      "execution_count": null,
      "outputs": [
        {
          "output_type": "execute_result",
          "data": {
            "text/plain": [
              "3"
            ]
          },
          "metadata": {
            "tags": []
          },
          "execution_count": 77
        }
      ]
    },
    {
      "cell_type": "code",
      "metadata": {
        "id": "iWAFjQDZJc1H",
        "colab_type": "code",
        "colab": {},
        "outputId": "c20fa297-74d6-4dcc-a692-e0dc2c357cfc"
      },
      "source": [
        "a = 5.6\n",
        "s =str(a) #indicating s is a string\n",
        "print(s)"
      ],
      "execution_count": null,
      "outputs": [
        {
          "output_type": "stream",
          "text": [
            "5.6\n"
          ],
          "name": "stdout"
        }
      ]
    },
    {
      "cell_type": "code",
      "metadata": {
        "id": "0H0dbhDGJc1a",
        "colab_type": "code",
        "colab": {},
        "outputId": "3e62d9dd-a8f6-4214-956d-149d1ceb6a3b"
      },
      "source": [
        "s = 'python'\n",
        "list(s)"
      ],
      "execution_count": null,
      "outputs": [
        {
          "output_type": "execute_result",
          "data": {
            "text/plain": [
              "['p', 'y', 't', 'h', 'o', 'n']"
            ]
          },
          "metadata": {
            "tags": []
          },
          "execution_count": 2
        }
      ]
    },
    {
      "cell_type": "code",
      "metadata": {
        "id": "cnfJys2TJc1p",
        "colab_type": "code",
        "colab": {},
        "outputId": "0c490189-8a9c-4848-a366-cfeeba6f4c31"
      },
      "source": [
        "s[:3] #first characters 0,1,2"
      ],
      "execution_count": null,
      "outputs": [
        {
          "output_type": "execute_result",
          "data": {
            "text/plain": [
              "'pyt'"
            ]
          },
          "metadata": {
            "tags": []
          },
          "execution_count": 81
        }
      ]
    },
    {
      "cell_type": "code",
      "metadata": {
        "id": "lUPjBQv2Jc1z",
        "colab_type": "code",
        "colab": {},
        "outputId": "cc78ed46-c5b0-44a5-e7c8-bfa1de0136c9"
      },
      "source": [
        "s = '12\\\\34'\n",
        "print(s)"
      ],
      "execution_count": null,
      "outputs": [
        {
          "output_type": "stream",
          "text": [
            "12\\34\n"
          ],
          "name": "stdout"
        }
      ]
    },
    {
      "cell_type": "code",
      "metadata": {
        "id": "pAANRIUUJc2A",
        "colab_type": "code",
        "colab": {}
      },
      "source": [
        ""
      ],
      "execution_count": null,
      "outputs": []
    },
    {
      "cell_type": "code",
      "metadata": {
        "id": "oSDd_sqKJc2J",
        "colab_type": "code",
        "colab": {},
        "outputId": "71dc9849-0ac6-49d9-e866-5f54e9938189"
      },
      "source": [
        "s = r'this\\has\\no\\special\\characters' # r stands for raw\n",
        "s"
      ],
      "execution_count": null,
      "outputs": [
        {
          "output_type": "execute_result",
          "data": {
            "text/plain": [
              "'this\\\\has\\\\no\\\\special\\\\characters'"
            ]
          },
          "metadata": {
            "tags": []
          },
          "execution_count": 83
        }
      ]
    },
    {
      "cell_type": "code",
      "metadata": {
        "id": "Z_I0XO4DJc2Y",
        "colab_type": "code",
        "colab": {},
        "outputId": "f9228e6e-57d3-4c5d-da98-d1363c292160"
      },
      "source": [
        "#concatenating strings\n",
        "a = 'this is the first half '\n",
        "b = 'and this is the second half'\n",
        "a+b"
      ],
      "execution_count": null,
      "outputs": [
        {
          "output_type": "execute_result",
          "data": {
            "text/plain": [
              "'this is the first half and this is the second half'"
            ]
          },
          "metadata": {
            "tags": []
          },
          "execution_count": 85
        }
      ]
    },
    {
      "cell_type": "code",
      "metadata": {
        "id": "FwM8Ybu4Jc2e",
        "colab_type": "code",
        "colab": {}
      },
      "source": [
        "template = '{0:.2f} {1:s} are worth US${2:d}'\n"
      ],
      "execution_count": null,
      "outputs": []
    },
    {
      "cell_type": "code",
      "metadata": {
        "id": "RPE8PFC-Jc2p",
        "colab_type": "code",
        "colab": {},
        "outputId": "2728f559-c6ef-426b-d632-0322b17d9dbc"
      },
      "source": [
        "template.format(4.5560, 'Argentine Pesos',1)"
      ],
      "execution_count": null,
      "outputs": [
        {
          "output_type": "execute_result",
          "data": {
            "text/plain": [
              "'4.56 Argentine Pesos are worth US$1'"
            ]
          },
          "metadata": {
            "tags": []
          },
          "execution_count": 94
        }
      ]
    },
    {
      "cell_type": "code",
      "metadata": {
        "id": "5QzTcLhVJc2x",
        "colab_type": "code",
        "colab": {}
      },
      "source": [
        "# {0:.2f} format the 1st argument as floating point with 2 decimals 0-1st pos\n",
        "#{1:s} format as string are worth US$                 1-2nd pos\n",
        "#{2:d} format as an exact integer                     2-3rd pos"
      ],
      "execution_count": null,
      "outputs": []
    },
    {
      "cell_type": "code",
      "metadata": {
        "id": "pQ77UoR2Jc27",
        "colab_type": "code",
        "colab": {},
        "outputId": "4825ab86-9637-4a89-adac-e4196f20df0a"
      },
      "source": [
        "from datetime import datetime, date, time #dont understand\n",
        "dt =datetime(2011, 10,29,20,30,21)\n",
        "dt.day"
      ],
      "execution_count": null,
      "outputs": [
        {
          "output_type": "execute_result",
          "data": {
            "text/plain": [
              "29"
            ]
          },
          "metadata": {
            "tags": []
          },
          "execution_count": 95
        }
      ]
    },
    {
      "cell_type": "code",
      "metadata": {
        "id": "WbhJie9hJc3C",
        "colab_type": "code",
        "colab": {},
        "outputId": "755fd59c-634a-4704-9cd0-0566332cfba0"
      },
      "source": [
        "dt.minute"
      ],
      "execution_count": null,
      "outputs": [
        {
          "output_type": "execute_result",
          "data": {
            "text/plain": [
              "30"
            ]
          },
          "metadata": {
            "tags": []
          },
          "execution_count": 96
        }
      ]
    },
    {
      "cell_type": "code",
      "metadata": {
        "id": "W4lVH5ZKJc3M",
        "colab_type": "code",
        "colab": {},
        "outputId": "3b145023-3c79-49f7-c42a-7189c8d3714a"
      },
      "source": [
        "dt.date() #not clear"
      ],
      "execution_count": null,
      "outputs": [
        {
          "output_type": "execute_result",
          "data": {
            "text/plain": [
              "datetime.date(2011, 10, 29)"
            ]
          },
          "metadata": {
            "tags": []
          },
          "execution_count": 97
        }
      ]
    },
    {
      "cell_type": "code",
      "metadata": {
        "id": "Z6H92dcLJc3S",
        "colab_type": "code",
        "colab": {},
        "outputId": "42d2a28e-4cec-41df-f76d-ba8412b7cedf"
      },
      "source": [
        "if x<0:\n",
        "    print(\"It's negative\")\n",
        "elif x == 0:\n",
        "    print ('Equal to zero')\n",
        "elif 0<x<5:\n",
        "    print('Postive but smaller than 5')\n",
        "else:\n",
        "    print ('Positive and larger than or equal to 5')\n"
      ],
      "execution_count": null,
      "outputs": [
        {
          "output_type": "error",
          "ename": "NameError",
          "evalue": "name 'x' is not defined",
          "traceback": [
            "\u001b[1;31m---------------------------------------------------------------------------\u001b[0m",
            "\u001b[1;31mNameError\u001b[0m                                 Traceback (most recent call last)",
            "\u001b[1;32m<ipython-input-101-70956253e365>\u001b[0m in \u001b[0;36m<module>\u001b[1;34m()\u001b[0m\n\u001b[1;32m----> 1\u001b[1;33m \u001b[1;32mif\u001b[0m \u001b[0mx\u001b[0m\u001b[1;33m<\u001b[0m\u001b[1;36m0\u001b[0m\u001b[1;33m:\u001b[0m\u001b[1;33m\u001b[0m\u001b[0m\n\u001b[0m\u001b[0;32m      2\u001b[0m     \u001b[0mprint\u001b[0m\u001b[1;33m(\u001b[0m\u001b[1;34m\"It's negative\"\u001b[0m\u001b[1;33m)\u001b[0m\u001b[1;33m\u001b[0m\u001b[0m\n\u001b[0;32m      3\u001b[0m \u001b[1;32melif\u001b[0m \u001b[0mx\u001b[0m \u001b[1;33m==\u001b[0m \u001b[1;36m0\u001b[0m\u001b[1;33m:\u001b[0m\u001b[1;33m\u001b[0m\u001b[0m\n\u001b[0;32m      4\u001b[0m     \u001b[0mprint\u001b[0m \u001b[1;33m(\u001b[0m\u001b[1;34m'Equal to zero'\u001b[0m\u001b[1;33m)\u001b[0m\u001b[1;33m\u001b[0m\u001b[0m\n\u001b[0;32m      5\u001b[0m \u001b[1;32melif\u001b[0m \u001b[1;36m0\u001b[0m\u001b[1;33m<\u001b[0m\u001b[0mx\u001b[0m\u001b[1;33m<\u001b[0m\u001b[1;36m5\u001b[0m\u001b[1;33m:\u001b[0m\u001b[1;33m\u001b[0m\u001b[0m\n",
            "\u001b[1;31mNameError\u001b[0m: name 'x' is not defined"
          ]
        }
      ]
    },
    {
      "cell_type": "code",
      "metadata": {
        "id": "NyLA2gQXJc3j",
        "colab_type": "code",
        "colab": {},
        "outputId": "f69f75e0-d4d2-4559-fe82-46d25a284085"
      },
      "source": [
        "a = 5;b =7\n",
        "c=8;d =4\n",
        "if a<b or c>d:\n",
        "    print('Made it')"
      ],
      "execution_count": null,
      "outputs": [
        {
          "output_type": "stream",
          "text": [
            "Made it\n"
          ],
          "name": "stdout"
        }
      ]
    },
    {
      "cell_type": "code",
      "metadata": {
        "id": "4mgS1thVJc3p",
        "colab_type": "code",
        "colab": {}
      },
      "source": [
        "sequence = [1, 2, 0, 4, 6, 5, 2, 1]\n",
        "total_until_5 = 0\n",
        "for value in sequence:\n",
        " if value == 5:\n",
        "     break\n",
        " total_until_5 += value"
      ],
      "execution_count": null,
      "outputs": []
    },
    {
      "cell_type": "code",
      "metadata": {
        "id": "QCs4Ac_tJc3v",
        "colab_type": "code",
        "colab": {},
        "outputId": "8625f274-0374-4fdd-cbb3-6974fcae126f"
      },
      "source": [
        " :  for i in range(4):\n",
        " :      for j in range(4):\n",
        " :         if j > i:\n",
        " :             break\n",
        " :       print((i, j))\n",
        "(0,0)\n",
        "(1,0)\n",
        "(1,1)\n",
        "(2,0)\n",
        "(2,1)\n",
        "(2,2)\n",
        "(3,0)\n",
        "(3,1)\n",
        "(3,2)\n",
        "(3,3)"
      ],
      "execution_count": null,
      "outputs": [
        {
          "output_type": "error",
          "ename": "SyntaxError",
          "evalue": "invalid syntax (<ipython-input-112-7cd6670c2ecd>, line 1)",
          "traceback": [
            "\u001b[1;36m  File \u001b[1;32m\"<ipython-input-112-7cd6670c2ecd>\"\u001b[1;36m, line \u001b[1;32m1\u001b[0m\n\u001b[1;33m    :  for i in range(4):\u001b[0m\n\u001b[1;37m    ^\u001b[0m\n\u001b[1;31mSyntaxError\u001b[0m\u001b[1;31m:\u001b[0m invalid syntax\n"
          ]
        }
      ]
    },
    {
      "cell_type": "code",
      "metadata": {
        "id": "TO7WaCXbJc30",
        "colab_type": "code",
        "colab": {}
      },
      "source": [
        "x = 256\n",
        "total = 0\n",
        "while x > 0:\n",
        "    if total > 500:\n",
        "        break\n",
        "    total += x\n",
        "    x = x // 2"
      ],
      "execution_count": null,
      "outputs": []
    },
    {
      "cell_type": "code",
      "metadata": {
        "id": "rhPmLYfqJc3_",
        "colab_type": "code",
        "colab": {},
        "outputId": "473121f9-87c5-483e-be54-de7e2f55ff88"
      },
      "source": [
        "a = 5;b =7\n",
        "c=8;d =4\n",
        "if a<b or c>d:\n",
        "    print('Made it')"
      ],
      "execution_count": null,
      "outputs": [
        {
          "output_type": "stream",
          "text": [
            "Made it\n"
          ],
          "name": "stdout"
        }
      ]
    },
    {
      "cell_type": "code",
      "metadata": {
        "id": "uYXlwTNhJc4R",
        "colab_type": "code",
        "colab": {},
        "outputId": "a85f251a-1764-4cc5-fa1a-2d3714b1ed81"
      },
      "source": [
        "x=5\n",
        "y=7\n",
        "x+y"
      ],
      "execution_count": null,
      "outputs": [
        {
          "output_type": "execute_result",
          "data": {
            "text/plain": [
              "12"
            ]
          },
          "metadata": {
            "tags": []
          },
          "execution_count": 4
        }
      ]
    },
    {
      "cell_type": "code",
      "metadata": {
        "id": "ZgtBID-3Jc4Z",
        "colab_type": "code",
        "colab": {}
      },
      "source": [
        ""
      ],
      "execution_count": null,
      "outputs": []
    }
  ]
}